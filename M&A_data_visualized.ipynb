{
  "nbformat": 4,
  "nbformat_minor": 0,
  "metadata": {
    "colab": {
      "name": " M&A data visualized.ipynb",
      "provenance": []
    },
    "kernelspec": {
      "name": "python3",
      "display_name": "Python 3"
    }
  },
  "cells": [
    {
      "cell_type": "code",
      "metadata": {
        "id": "KkZPUfgGPGk7",
        "colab_type": "code",
        "colab": {}
      },
      "source": [
        "import os\n",
        "import pandas as pd\n",
        "import numpy as np\n",
        "\n",
        "import pandas as pd\n",
        "import numpy as np\n",
        "import seaborn as sns\n",
        "import matplotlib.pyplot as plt"
      ],
      "execution_count": null,
      "outputs": []
    },
    {
      "cell_type": "code",
      "metadata": {
        "id": "HzBSKWTuP4a7",
        "colab_type": "code",
        "colab": {}
      },
      "source": [
        "data=pd.read_csv('combined(1).csv',encoding='ISO-8859-1')"
      ],
      "execution_count": null,
      "outputs": []
    },
    {
      "cell_type": "markdown",
      "metadata": {
        "id": "rfT32lt2rKPV",
        "colab_type": "text"
      },
      "source": [
        "# 1.Acquisitions data analysis"
      ]
    },
    {
      "cell_type": "code",
      "metadata": {
        "id": "orlyquzStuhJ",
        "colab_type": "code",
        "colab": {
          "base_uri": "https://localhost:8080/",
          "height": 360
        },
        "outputId": "32035c9e-559b-45f1-b8fc-1997846a5597"
      },
      "source": [
        "data.head()"
      ],
      "execution_count": null,
      "outputs": [
        {
          "output_type": "execute_result",
          "data": {
            "text/html": [
              "<div>\n",
              "<style scoped>\n",
              "    .dataframe tbody tr th:only-of-type {\n",
              "        vertical-align: middle;\n",
              "    }\n",
              "\n",
              "    .dataframe tbody tr th {\n",
              "        vertical-align: top;\n",
              "    }\n",
              "\n",
              "    .dataframe thead th {\n",
              "        text-align: right;\n",
              "    }\n",
              "</style>\n",
              "<table border=\"1\" class=\"dataframe\">\n",
              "  <thead>\n",
              "    <tr style=\"text-align: right;\">\n",
              "      <th></th>\n",
              "      <th>id</th>\n",
              "      <th>entity_type</th>\n",
              "      <th>entity_id</th>\n",
              "      <th>name</th>\n",
              "      <th>normalized_name</th>\n",
              "      <th>permalink</th>\n",
              "      <th>category_code</th>\n",
              "      <th>status</th>\n",
              "      <th>founded_at</th>\n",
              "      <th>description</th>\n",
              "      <th>overview</th>\n",
              "      <th>tag_list</th>\n",
              "      <th>country_code</th>\n",
              "      <th>state_code</th>\n",
              "      <th>city</th>\n",
              "      <th>region</th>\n",
              "      <th>investment_rounds</th>\n",
              "      <th>invested_companies</th>\n",
              "      <th>first_funding_at</th>\n",
              "      <th>last_funding_at</th>\n",
              "      <th>funding_rounds</th>\n",
              "      <th>funding_total_usd</th>\n",
              "      <th>first_milestone_at</th>\n",
              "      <th>last_milestone_at</th>\n",
              "      <th>milestones</th>\n",
              "      <th>relationships</th>\n",
              "      <th>created_by</th>\n",
              "      <th>price_amount</th>\n",
              "      <th>price_currency_code</th>\n",
              "      <th>acquired_at</th>\n",
              "    </tr>\n",
              "  </thead>\n",
              "  <tbody>\n",
              "    <tr>\n",
              "      <th>0</th>\n",
              "      <td>c:1</td>\n",
              "      <td>Company</td>\n",
              "      <td>1</td>\n",
              "      <td>Wetpaint</td>\n",
              "      <td>wetpaint</td>\n",
              "      <td>/company/wetpaint</td>\n",
              "      <td>web</td>\n",
              "      <td>non_acquired</td>\n",
              "      <td>2005-10-17</td>\n",
              "      <td>Technology Platform Company</td>\n",
              "      <td>Wetpaint is a technology platform company that...</td>\n",
              "      <td>wiki, seattle, elowitz, media-industry, media-...</td>\n",
              "      <td>USA</td>\n",
              "      <td>WA</td>\n",
              "      <td>Seattle</td>\n",
              "      <td>Seattle</td>\n",
              "      <td>0</td>\n",
              "      <td>0</td>\n",
              "      <td>2005-10-01</td>\n",
              "      <td>2008-05-19</td>\n",
              "      <td>3</td>\n",
              "      <td>39750000.0</td>\n",
              "      <td>2010-09-05</td>\n",
              "      <td>2013-09-18</td>\n",
              "      <td>5</td>\n",
              "      <td>17</td>\n",
              "      <td>initial-importer</td>\n",
              "      <td>NaN</td>\n",
              "      <td>NaN</td>\n",
              "      <td>NaN</td>\n",
              "    </tr>\n",
              "    <tr>\n",
              "      <th>1</th>\n",
              "      <td>c:1001</td>\n",
              "      <td>Company</td>\n",
              "      <td>1001</td>\n",
              "      <td>FriendFeed</td>\n",
              "      <td>friendfeed</td>\n",
              "      <td>/company/friendfeed</td>\n",
              "      <td>web</td>\n",
              "      <td>acquired</td>\n",
              "      <td>2007-10-01</td>\n",
              "      <td>Social network aggregator</td>\n",
              "      <td>[FriendFeed](http://www.friendfeed.com) aims t...</td>\n",
              "      <td>socialnetwork, newsfeed, socialnetworkaggregator</td>\n",
              "      <td>USA</td>\n",
              "      <td>CA</td>\n",
              "      <td>Mountain View</td>\n",
              "      <td>SF Bay</td>\n",
              "      <td>0</td>\n",
              "      <td>0</td>\n",
              "      <td>2008-02-26</td>\n",
              "      <td>2008-02-26</td>\n",
              "      <td>1</td>\n",
              "      <td>5000000.0</td>\n",
              "      <td>2008-05-01</td>\n",
              "      <td>2012-09-13</td>\n",
              "      <td>3</td>\n",
              "      <td>14</td>\n",
              "      <td>initial-importer</td>\n",
              "      <td>47500000.0</td>\n",
              "      <td>USD</td>\n",
              "      <td>2009-08-10</td>\n",
              "    </tr>\n",
              "    <tr>\n",
              "      <th>2</th>\n",
              "      <td>c:10014</td>\n",
              "      <td>Company</td>\n",
              "      <td>10014</td>\n",
              "      <td>Mobclix</td>\n",
              "      <td>mobclix</td>\n",
              "      <td>/company/mobclix</td>\n",
              "      <td>mobile</td>\n",
              "      <td>acquired</td>\n",
              "      <td>2008-03-01</td>\n",
              "      <td>iPhone Ad Exchange Provider</td>\n",
              "      <td>Mobclix (www.mobclix.com) is the industry's la...</td>\n",
              "      <td>techcrunch50, tc50, iphone, analytics, free-de...</td>\n",
              "      <td>USA</td>\n",
              "      <td>CA</td>\n",
              "      <td>Palo Alto</td>\n",
              "      <td>SF Bay</td>\n",
              "      <td>0</td>\n",
              "      <td>0</td>\n",
              "      <td>2008-09-01</td>\n",
              "      <td>2008-09-01</td>\n",
              "      <td>1</td>\n",
              "      <td>0.0</td>\n",
              "      <td>1995-03-01</td>\n",
              "      <td>2012-09-18</td>\n",
              "      <td>4</td>\n",
              "      <td>9</td>\n",
              "      <td>NaN</td>\n",
              "      <td>0.0</td>\n",
              "      <td>USD</td>\n",
              "      <td>2010-09-30</td>\n",
              "    </tr>\n",
              "    <tr>\n",
              "      <th>3</th>\n",
              "      <td>c:100155</td>\n",
              "      <td>Company</td>\n",
              "      <td>100155</td>\n",
              "      <td>MTPV</td>\n",
              "      <td>mtpv</td>\n",
              "      <td>/company/mtpv</td>\n",
              "      <td>cleantech</td>\n",
              "      <td>non_acquired</td>\n",
              "      <td>2003-01-01</td>\n",
              "      <td>NaN</td>\n",
              "      <td>MTPV Corporation is a clean energy company foc...</td>\n",
              "      <td>NaN</td>\n",
              "      <td>USA</td>\n",
              "      <td>TX</td>\n",
              "      <td>Austin</td>\n",
              "      <td>Austin</td>\n",
              "      <td>0</td>\n",
              "      <td>0</td>\n",
              "      <td>2011-03-08</td>\n",
              "      <td>2012-01-26</td>\n",
              "      <td>3</td>\n",
              "      <td>10125293.0</td>\n",
              "      <td>2010-01-01</td>\n",
              "      <td>2010-01-01</td>\n",
              "      <td>1</td>\n",
              "      <td>6</td>\n",
              "      <td>arun</td>\n",
              "      <td>NaN</td>\n",
              "      <td>NaN</td>\n",
              "      <td>NaN</td>\n",
              "    </tr>\n",
              "    <tr>\n",
              "      <th>4</th>\n",
              "      <td>c:10018</td>\n",
              "      <td>Company</td>\n",
              "      <td>10018</td>\n",
              "      <td>Demandbase</td>\n",
              "      <td>demandbase</td>\n",
              "      <td>/company/demandbase</td>\n",
              "      <td>analytics</td>\n",
              "      <td>non_acquired</td>\n",
              "      <td>2006-01-01</td>\n",
              "      <td>NaN</td>\n",
              "      <td>Demandbase is the first targeting and personal...</td>\n",
              "      <td>NaN</td>\n",
              "      <td>USA</td>\n",
              "      <td>CA</td>\n",
              "      <td>San Francisco</td>\n",
              "      <td>SF Bay</td>\n",
              "      <td>0</td>\n",
              "      <td>0</td>\n",
              "      <td>2008-08-25</td>\n",
              "      <td>2013-03-28</td>\n",
              "      <td>3</td>\n",
              "      <td>33000000.0</td>\n",
              "      <td>2010-05-18</td>\n",
              "      <td>2013-03-01</td>\n",
              "      <td>3</td>\n",
              "      <td>19</td>\n",
              "      <td>jason</td>\n",
              "      <td>NaN</td>\n",
              "      <td>NaN</td>\n",
              "      <td>NaN</td>\n",
              "    </tr>\n",
              "  </tbody>\n",
              "</table>\n",
              "</div>"
            ],
            "text/plain": [
              "         id entity_type  ...  price_currency_code acquired_at\n",
              "0       c:1     Company  ...                  NaN         NaN\n",
              "1    c:1001     Company  ...                  USD  2009-08-10\n",
              "2   c:10014     Company  ...                  USD  2010-09-30\n",
              "3  c:100155     Company  ...                  NaN         NaN\n",
              "4   c:10018     Company  ...                  NaN         NaN\n",
              "\n",
              "[5 rows x 30 columns]"
            ]
          },
          "metadata": {
            "tags": []
          },
          "execution_count": 283
        }
      ]
    },
    {
      "cell_type": "code",
      "metadata": {
        "id": "WWlSBCv1R1ES",
        "colab_type": "code",
        "colab": {
          "base_uri": "https://localhost:8080/",
          "height": 383
        },
        "outputId": "54048cbf-f0fe-451f-f0ef-c9a16a0ee9fa"
      },
      "source": [
        "tracxn=tracxn.rename(columns={\"Company Name\": \"name\"})\n",
        "tracxn.head(3)"
      ],
      "execution_count": null,
      "outputs": [
        {
          "output_type": "execute_result",
          "data": {
            "text/html": [
              "<div>\n",
              "<style scoped>\n",
              "    .dataframe tbody tr th:only-of-type {\n",
              "        vertical-align: middle;\n",
              "    }\n",
              "\n",
              "    .dataframe tbody tr th {\n",
              "        vertical-align: top;\n",
              "    }\n",
              "\n",
              "    .dataframe thead th {\n",
              "        text-align: right;\n",
              "    }\n",
              "</style>\n",
              "<table border=\"1\" class=\"dataframe\">\n",
              "  <thead>\n",
              "    <tr style=\"text-align: right;\">\n",
              "      <th></th>\n",
              "      <th>name</th>\n",
              "      <th>Domain</th>\n",
              "      <th>Overview</th>\n",
              "      <th>Founded Year</th>\n",
              "      <th>Taxonomy</th>\n",
              "      <th>Total Funding</th>\n",
              "      <th>Company Stage</th>\n",
              "      <th>City</th>\n",
              "      <th>Country</th>\n",
              "      <th>Description</th>\n",
              "      <th>Investors</th>\n",
              "      <th>Founder's Info</th>\n",
              "      <th>Last Funded Date</th>\n",
              "      <th>Last Funding Amount</th>\n",
              "      <th>Total Funding(USD)</th>\n",
              "      <th>Editor Rating</th>\n",
              "      <th>Unicorn Status</th>\n",
              "      <th>Mobile Downloads</th>\n",
              "      <th>Twitter Followers</th>\n",
              "      <th>Web Traffic Rank</th>\n",
              "      <th>Company Status</th>\n",
              "      <th>Company Status Details</th>\n",
              "    </tr>\n",
              "  </thead>\n",
              "  <tbody>\n",
              "    <tr>\n",
              "      <th>0</th>\n",
              "      <td>Lyft</td>\n",
              "      <td>lyft.com</td>\n",
              "      <td>On-Demand Taxi</td>\n",
              "      <td>2012</td>\n",
              "      <td>Road Transport Tech&gt;Ride Hailing&gt;Cars&gt;Taxi&gt;Int...</td>\n",
              "      <td>5.10B</td>\n",
              "      <td>Public</td>\n",
              "      <td>San Francisco</td>\n",
              "      <td>US &amp; Canada</td>\n",
              "      <td>Lyft is an on-demand taxi-hailing app. Lyft co...</td>\n",
              "      <td>Artha India Ventures,Fidelity Investments,Sena...</td>\n",
              "      <td>John Zimmer,Co-Founder and President,Ex-Lehman...</td>\n",
              "      <td>8/5/2018</td>\n",
              "      <td>NaN</td>\n",
              "      <td>5100300000</td>\n",
              "      <td>5</td>\n",
              "      <td>undefined</td>\n",
              "      <td>33000000</td>\n",
              "      <td>292551</td>\n",
              "      <td>NaN</td>\n",
              "      <td>IPO</td>\n",
              "      <td>IPO(NASDAQ:LYFT 2019/3/29)</td>\n",
              "    </tr>\n",
              "    <tr>\n",
              "      <th>1</th>\n",
              "      <td>Airbnb</td>\n",
              "      <td>airbnb.com</td>\n",
              "      <td>Marketplace for vacation rental accommodations</td>\n",
              "      <td>2008</td>\n",
              "      <td>Y Combinator Batches&gt;2009&gt;Winter; Online Trave...</td>\n",
              "      <td>3.63B</td>\n",
              "      <td>Series F</td>\n",
              "      <td>San Francisco</td>\n",
              "      <td>US &amp; Canada</td>\n",
              "      <td>Airbnb provides a marketplace for people to li...</td>\n",
              "      <td>TCV,CapitalG,Manhattan Venture Partners,Andree...</td>\n",
              "      <td>Nathan Blecharczyk,Co-Founder &amp; CTO,Was Owner ...</td>\n",
              "      <td>8/8/2019</td>\n",
              "      <td>25.92M</td>\n",
              "      <td>3627215232</td>\n",
              "      <td>5</td>\n",
              "      <td>DECACORN</td>\n",
              "      <td>75000000</td>\n",
              "      <td>undefined</td>\n",
              "      <td>NaN</td>\n",
              "      <td>NaN</td>\n",
              "      <td>NaN</td>\n",
              "    </tr>\n",
              "    <tr>\n",
              "      <th>2</th>\n",
              "      <td>Magic Leap</td>\n",
              "      <td>magicleap.com</td>\n",
              "      <td>Head-mounted virtual retinal display to view a...</td>\n",
              "      <td>2011</td>\n",
              "      <td>Augmented Reality&gt;Display Medium&gt;Projection-ba...</td>\n",
              "      <td>2.58B</td>\n",
              "      <td>Series E</td>\n",
              "      <td>Miami</td>\n",
              "      <td>US &amp; Canada</td>\n",
              "      <td>Magic Leap is a startup working on a head-moun...</td>\n",
              "      <td>JPMorgan Chase,Ntt DoCoMo,AT&amp;T,Public Investme...</td>\n",
              "      <td>Rony Abovitz,Founder &amp; CEO,ex-MAKO Surgical, C...</td>\n",
              "      <td>11/10/2019</td>\n",
              "      <td>NaN</td>\n",
              "      <td>2580000000</td>\n",
              "      <td>5</td>\n",
              "      <td>UNICORN</td>\n",
              "      <td>undefined</td>\n",
              "      <td>76319</td>\n",
              "      <td>NaN</td>\n",
              "      <td>NaN</td>\n",
              "      <td>NaN</td>\n",
              "    </tr>\n",
              "  </tbody>\n",
              "</table>\n",
              "</div>"
            ],
            "text/plain": [
              "         name         Domain  ... Company Status      Company Status Details\n",
              "0        Lyft       lyft.com  ...            IPO  IPO(NASDAQ:LYFT 2019/3/29)\n",
              "1      Airbnb     airbnb.com  ...            NaN                         NaN\n",
              "2  Magic Leap  magicleap.com  ...            NaN                         NaN\n",
              "\n",
              "[3 rows x 22 columns]"
            ]
          },
          "metadata": {
            "tags": []
          },
          "execution_count": 284
        }
      ]
    },
    {
      "cell_type": "markdown",
      "metadata": {
        "id": "G6BVo3TVHtM1",
        "colab_type": "text"
      },
      "source": [
        "## Target Variable Distribution"
      ]
    },
    {
      "cell_type": "code",
      "metadata": {
        "id": "e6JBmEGvE8iK",
        "colab_type": "code",
        "colab": {
          "base_uri": "https://localhost:8080/",
          "height": 398
        },
        "outputId": "5ac2ab87-2488-4daf-c912-29cb8d6d203d"
      },
      "source": [
        "sns.catplot(x=\"status\", kind=\"count\", palette=\"hls\", data=data) \n",
        "plt.title('acquired v/s non acquired companies count')   "
      ],
      "execution_count": null,
      "outputs": [
        {
          "output_type": "execute_result",
          "data": {
            "text/plain": [
              "Text(0.5, 1.0, 'acquired v/s non acquired companies count')"
            ]
          },
          "metadata": {
            "tags": []
          },
          "execution_count": 285
        },
        {
          "output_type": "display_data",
          "data": {
            "image/png": "[encoded data removed]",
            "text/plain": [
              "<Figure size 360x360 with 1 Axes>"
            ]
          },
          "metadata": {
            "tags": [],
            "needs_background": "light"
          }
        }
      ]
    },
    {
      "cell_type": "code",
      "metadata": {
        "id": "6hVE83zar8CZ",
        "colab_type": "code",
        "colab": {}
      },
      "source": [
        "data=data.drop(['normalized_name'],axis=1)\n",
        "data=data.drop(['entity_type'],axis=1)"
      ],
      "execution_count": null,
      "outputs": []
    },
    {
      "cell_type": "markdown",
      "metadata": {
        "id": "AEeVSFXNHzIE",
        "colab_type": "text"
      },
      "source": [
        "## Category wise analysis of acquired companies"
      ]
    },
    {
      "cell_type": "code",
      "metadata": {
        "id": "1VdzrMagQmV2",
        "colab_type": "code",
        "colab": {
          "base_uri": "https://localhost:8080/",
          "height": 398
        },
        "outputId": "4583c854-1553-4c39-a94f-f9d1c3b965f2"
      },
      "source": [
        "%matplotlib inline\n",
        "acq_data1=data[data['status']=='acquired']\n",
        "import matplotlib.pyplot as plt\n",
        "#plt.figure(figsize=(30, 30))\n",
        "sns.set_context(\"notebook\", font_scale=1, rc={\"lines.linewidth\": 2.5})\n",
        "sns.catplot(y=\"category_code\", kind=\"count\", palette=\"husl\" ,data=acq_data1)    \n",
        "plt.xlabel('counts')\n",
        "plt.ylabel('Category')\n",
        "plt.title('Category wise distribution of acquired companies')\n",
        "plt.show()\n"
      ],
      "execution_count": null,
      "outputs": [
        {
          "output_type": "display_data",
          "data": {
            "image/png": "[encoded data removed]",
            "text/plain": [
              "<Figure size 360x360 with 1 Axes>"
            ]
          },
          "metadata": {
            "tags": [],
            "needs_background": "light"
          }
        }
      ]
    },
    {
      "cell_type": "code",
      "metadata": {
        "id": "BnrLugOZIJEj",
        "colab_type": "code",
        "colab": {
          "base_uri": "https://localhost:8080/",
          "height": 204
        },
        "outputId": "47f8e121-2ea1-4bf8-9d91-f59661c3e1f7"
      },
      "source": [
        "data[data['category_code']=='web']['description'][10:20]\n",
        "                                    "
      ],
      "execution_count": null,
      "outputs": [
        {
          "output_type": "execute_result",
          "data": {
            "text/plain": [
              "51                 Digital Entertainment Studio\n",
              "56                                          NaN\n",
              "74                                          NaN\n",
              "81                  Jobs, part-time and at-home\n",
              "86                    Online research provider \n",
              "90     MicroPayment Service for Social Networks\n",
              "92                                          NaN\n",
              "94                     online mind mapping SaaS\n",
              "95                                          NaN\n",
              "101                        websites development\n",
              "Name: description, dtype: object"
            ]
          },
          "metadata": {
            "tags": []
          },
          "execution_count": 288
        }
      ]
    },
    {
      "cell_type": "code",
      "metadata": {
        "id": "kOZmb5S4Hgfa",
        "colab_type": "code",
        "colab": {
          "base_uri": "https://localhost:8080/",
          "height": 204
        },
        "outputId": "7c2b40c8-b3dd-40c3-8f95-437dbc57f3ba"
      },
      "source": [
        "data[data['category_code']=='mobile']['description'][80:90]"
      ],
      "execution_count": null,
      "outputs": [
        {
          "output_type": "execute_result",
          "data": {
            "text/plain": [
              "999            Queue Elimination System\n",
              "1000     location based event discovery\n",
              "1014        Auto repair app and website\n",
              "1015    Personalize. Connect. Practice.\n",
              "1017           Creative Content Startup\n",
              "1020          Rural marketing plateform\n",
              "1025                                NaN\n",
              "1028                       Mobile Email\n",
              "1029                      Making magic.\n",
              "1030             Mobile Coupon Platform\n",
              "Name: description, dtype: object"
            ]
          },
          "metadata": {
            "tags": []
          },
          "execution_count": 289
        }
      ]
    },
    {
      "cell_type": "code",
      "metadata": {
        "id": "ILqjVSJJKlVJ",
        "colab_type": "code",
        "colab": {}
      },
      "source": [
        "\n",
        "data.loc[data.category_code== 'mobile','category_code']='Mobile Apps/services'"
      ],
      "execution_count": null,
      "outputs": []
    },
    {
      "cell_type": "code",
      "metadata": {
        "id": "ti49BC3jItQq",
        "colab_type": "code",
        "colab": {
          "base_uri": "https://localhost:8080/",
          "height": 204
        },
        "outputId": "ff1e6579-03f7-4d1d-f632-39a9771887c2"
      },
      "source": [
        "data[data['category_code']=='games_video']['description'][30:40]"
      ],
      "execution_count": null,
      "outputs": [
        {
          "output_type": "execute_result",
          "data": {
            "text/plain": [
              "353                                       NaN\n",
              "374               Online Sports Entertainment\n",
              "382     Server-based Gaming and Desktop Apps.\n",
              "387                Interactive music solution\n",
              "395                            Fantasy Sports\n",
              "397                                       NaN\n",
              "409                                       NaN\n",
              "441                Conference and Event Video\n",
              "442    Frequent Flyer Miles for Entertainment\n",
              "466      Real-World Social Gaming, iPhone App\n",
              "Name: description, dtype: object"
            ]
          },
          "metadata": {
            "tags": []
          },
          "execution_count": 291
        }
      ]
    },
    {
      "cell_type": "code",
      "metadata": {
        "id": "KiNESkERL6W3",
        "colab_type": "code",
        "colab": {}
      },
      "source": [
        "data.loc[data.category_code== 'games_video','category_code']='Video games'"
      ],
      "execution_count": null,
      "outputs": []
    },
    {
      "cell_type": "code",
      "metadata": {
        "id": "GnEQndDeJFN-",
        "colab_type": "code",
        "colab": {
          "base_uri": "https://localhost:8080/",
          "height": 204
        },
        "outputId": "531cc871-439b-4d2a-ae9c-f8f081fc0c5a"
      },
      "source": [
        "data[data['category_code']=='software']['description'][30:40]"
      ],
      "execution_count": null,
      "outputs": [
        {
          "output_type": "execute_result",
          "data": {
            "text/plain": [
              "228            Advanced voice applications\n",
              "255      Realtime Operational Intelligence\n",
              "256        B2B Sales Intelligence Software\n",
              "261        application management software\n",
              "262                                    NaN\n",
              "274              data management solutions\n",
              "283                Hotel Software Solution\n",
              "293                                    NaN\n",
              "301      Indoor Navigation and Positioning\n",
              "302    Central Ordering Platform for SMB's\n",
              "Name: description, dtype: object"
            ]
          },
          "metadata": {
            "tags": []
          },
          "execution_count": 293
        }
      ]
    },
    {
      "cell_type": "code",
      "metadata": {
        "id": "JKfjDx_bM6yU",
        "colab_type": "code",
        "colab": {
          "base_uri": "https://localhost:8080/",
          "height": 204
        },
        "outputId": "98bc0d10-1123-4e83-8c5c-8e844fedc9b7"
      },
      "source": [
        "data[data['category_code']=='enterprise']['description'][90:100]\n"
      ],
      "execution_count": null,
      "outputs": [
        {
          "output_type": "execute_result",
          "data": {
            "text/plain": [
              "1220                          Great food at work\n",
              "1221                      The Load Testing Cloud\n",
              "1237                            Secure Cloud VPN\n",
              "1259           Mobile Application Creative Suite\n",
              "1276               Video Interviewing Technology\n",
              "1278                                         NaN\n",
              "1283                 Content creation for brands\n",
              "1290    Collect, organize and improve knowledge.\n",
              "1301          Software for University Admissions\n",
              "1306                                         NaN\n",
              "Name: description, dtype: object"
            ]
          },
          "metadata": {
            "tags": []
          },
          "execution_count": 294
        }
      ]
    },
    {
      "cell_type": "code",
      "metadata": {
        "id": "Bb33lK19M8gf",
        "colab_type": "code",
        "colab": {}
      },
      "source": [
        "data.loc[data.category_code== 'enterprise','category_code']='software'"
      ],
      "execution_count": null,
      "outputs": []
    },
    {
      "cell_type": "code",
      "metadata": {
        "id": "duP5AyJZI9CP",
        "colab_type": "code",
        "colab": {
          "base_uri": "https://localhost:8080/",
          "height": 204
        },
        "outputId": "e0037e37-19f8-4d5b-986d-07eea98657fa"
      },
      "source": [
        "data[data['category_code']=='hardware']['description'][70:80]"
      ],
      "execution_count": null,
      "outputs": [
        {
          "output_type": "execute_result",
          "data": {
            "text/plain": [
              "3342                                      NaN\n",
              "3348                  Lifelike dinosaur robot\n",
              "3364                                      NaN\n",
              "3378              Digital camera technologies\n",
              "3427         Indoor and Outdoor  LED Lighting\n",
              "3428            Recreational Sports Equipment\n",
              "3476                Modern kitchen appliances\n",
              "3501    Telecommunications Equipment Supplier\n",
              "3523                 Innovative Baby Products\n",
              "3545                                      NaN\n",
              "Name: description, dtype: object"
            ]
          },
          "metadata": {
            "tags": []
          },
          "execution_count": 296
        }
      ]
    },
    {
      "cell_type": "code",
      "metadata": {
        "id": "fwkR4C_LKGE3",
        "colab_type": "code",
        "colab": {
          "base_uri": "https://localhost:8080/",
          "height": 204
        },
        "outputId": "a0e51ff4-fb64-4677-8d4b-06a8e7436010"
      },
      "source": [
        "data[data['category_code']=='messaging']['description'][30:40]"
      ],
      "execution_count": null,
      "outputs": [
        {
          "output_type": "execute_result",
          "data": {
            "text/plain": [
              "3413                                NaN\n",
              "3434       Internal Communications Tool\n",
              "3640      Google Voice but for Business\n",
              "3697                                NaN\n",
              "3727    Sometimes, we just need to talk\n",
              "3757       Social Conversation Platform\n",
              "4087                                NaN\n",
              "4190                                NaN\n",
              "4270                                NaN\n",
              "4310               Online gifts service\n",
              "Name: description, dtype: object"
            ]
          },
          "metadata": {
            "tags": []
          },
          "execution_count": 297
        }
      ]
    },
    {
      "cell_type": "code",
      "metadata": {
        "id": "vCc7yFMzMQar",
        "colab_type": "code",
        "colab": {}
      },
      "source": [
        "data.loc[data.category_code== 'messaging','category_code']='web'"
      ],
      "execution_count": null,
      "outputs": []
    },
    {
      "cell_type": "code",
      "metadata": {
        "id": "06HTH5CFJrOn",
        "colab_type": "code",
        "colab": {
          "base_uri": "https://localhost:8080/",
          "height": 204
        },
        "outputId": "8bca019d-5dc4-4638-f6e2-b3e15cb1215c"
      },
      "source": [
        "data[data['category_code']=='search']['description'][50:60]"
      ],
      "execution_count": null,
      "outputs": [
        {
          "output_type": "execute_result",
          "data": {
            "text/plain": [
              "3530         Hotels.com of Crowdfunding Industry\n",
              "3555               Local search for US Hispanics\n",
              "3571          Natural Language Understanding API\n",
              "3659      Disruptive Pattern Matching in Science\n",
              "3945                               Search engine\n",
              "4019                        Web Tools Reinvented\n",
              "4111                        Mobile Search Engine\n",
              "4238                         Search-as-a-Service\n",
              "4410    Share, sell and chat with your neighbors\n",
              "4546                        Social search engine\n",
              "Name: description, dtype: object"
            ]
          },
          "metadata": {
            "tags": []
          },
          "execution_count": 299
        }
      ]
    },
    {
      "cell_type": "code",
      "metadata": {
        "id": "N50GCsvVMbPC",
        "colab_type": "code",
        "colab": {}
      },
      "source": [
        "data.loc[data.category_code== 'search','category_code']='web'"
      ],
      "execution_count": null,
      "outputs": []
    },
    {
      "cell_type": "code",
      "metadata": {
        "id": "b-KgEYXSOTs4",
        "colab_type": "code",
        "colab": {}
      },
      "source": [
        "data.loc[data.category_code== 'photo_video','category_code']='software'"
      ],
      "execution_count": null,
      "outputs": []
    },
    {
      "cell_type": "code",
      "metadata": {
        "id": "Rbb-RJE5PGO5",
        "colab_type": "code",
        "colab": {
          "base_uri": "https://localhost:8080/",
          "height": 204
        },
        "outputId": "526427a9-01bf-445b-e962-a4debdf83c9f"
      },
      "source": [
        "data[data['category_code']=='security']['description'][90:100]"
      ],
      "execution_count": null,
      "outputs": [
        {
          "output_type": "execute_result",
          "data": {
            "text/plain": [
              "5083                                      NaN\n",
              "5093    real-time global control and security\n",
              "5232                                      NaN\n",
              "5242                             Web Security\n",
              "5257    Realtime Online Identity Verification\n",
              "5276                     Information Security\n",
              "5286            Real-Time Anti Fraud Solution\n",
              "5297                          E-mail Platform\n",
              "5334                                      NaN\n",
              "5457        Next Generation Threat Management\n",
              "Name: description, dtype: object"
            ]
          },
          "metadata": {
            "tags": []
          },
          "execution_count": 302
        }
      ]
    },
    {
      "cell_type": "code",
      "metadata": {
        "id": "syka5Qb5PbVZ",
        "colab_type": "code",
        "colab": {}
      },
      "source": [
        "data.loc[data.category_code== 'security','category_code']='Cyber-security'"
      ],
      "execution_count": null,
      "outputs": []
    },
    {
      "cell_type": "code",
      "metadata": {
        "id": "evFX68duNSO3",
        "colab_type": "code",
        "colab": {
          "base_uri": "https://localhost:8080/",
          "height": 398
        },
        "outputId": "b78fbd1e-70c7-479c-970d-2c005f9d4fd4"
      },
      "source": [
        "%matplotlib inline\n",
        "acq_data1=data[data['status']=='acquired']\n",
        "import matplotlib.pyplot as plt\n",
        "#plt.figure(figsize=(30, 30))\n",
        "sns.set_context(\"notebook\", font_scale=1, rc={\"lines.linewidth\": 2.5})\n",
        "sns.catplot(y=\"category_code\", kind=\"count\", palette=\"husl\" ,data=acq_data1 ,height =5 ,aspect=1.5)    \n",
        "plt.xlabel('counts')\n",
        "plt.ylabel('Category')\n",
        "plt.title('Category wise distribution of acquired companies')\n",
        "plt.show()\n"
      ],
      "execution_count": null,
      "outputs": [
        {
          "output_type": "display_data",
          "data": {
            "image/png": "[encoded data removed]",
            "text/plain": [
              "<Figure size 540x360 with 1 Axes>"
            ]
          },
          "metadata": {
            "tags": [],
            "needs_background": "light"
          }
        }
      ]
    },
    {
      "cell_type": "code",
      "metadata": {
        "id": "SHfQ5AsIqeNT",
        "colab_type": "code",
        "colab": {}
      },
      "source": [
        "data.loc[data.category_code == 'web', 'is_IT/enterprise'] = 1\n",
        "data.loc[data.category_code == 'software', 'is_IT/enterprise'] = 1\n",
        "data.loc[data.category_code == 'ecommerce', 'is_IT/enterprise'] = 1\n",
        "data.loc[data.category_code == 'mobile', 'is_IT/enterprise'] = 1\n",
        "data['is_IT/enterprise']=data['is_IT/enterprise'].fillna(0)\n"
      ],
      "execution_count": null,
      "outputs": []
    },
    {
      "cell_type": "markdown",
      "metadata": {
        "id": "TKkbbgbUH5pz",
        "colab_type": "text"
      },
      "source": [
        "## Country wise analysis of acquired companies"
      ]
    },
    {
      "cell_type": "code",
      "metadata": {
        "id": "pj2csaalnwME",
        "colab_type": "code",
        "colab": {
          "base_uri": "https://localhost:8080/",
          "height": 355
        },
        "outputId": "82e23d08-1b77-4069-d0a0-04de59216391"
      },
      "source": [
        "import matplotlib.pyplot as plt\n",
        "acq_data1['country_code'].value_counts().head(20).plot(kind='barh', figsize=(10,5))    \n",
        "plt.xlabel('counts')\n",
        "plt.ylabel('Country')\n",
        "plt.title('Country wise distribution of acquired companies')\n",
        "plt.show()"
      ],
      "execution_count": null,
      "outputs": [
        {
          "output_type": "display_data",
          "data": {
            "image/png": "[encoded data removed]",
            "text/plain": [
              "<Figure size 720x360 with 1 Axes>"
            ]
          },
          "metadata": {
            "tags": [],
            "needs_background": "light"
          }
        }
      ]
    },
    {
      "cell_type": "code",
      "metadata": {
        "id": "3O33QjKnoOqN",
        "colab_type": "code",
        "colab": {}
      },
      "source": [
        "data.loc[data.country_code == 'USA', 'is_USA_based'] = 1\n",
        "data['is_USA_based']=data['is_USA_based'].fillna(0)"
      ],
      "execution_count": null,
      "outputs": []
    },
    {
      "cell_type": "markdown",
      "metadata": {
        "id": "IywDWJr1Roat",
        "colab_type": "text"
      },
      "source": [
        "# Average funding per round"
      ]
    },
    {
      "cell_type": "code",
      "metadata": {
        "id": "x_Uti781ncNJ",
        "colab_type": "code",
        "colab": {}
      },
      "source": [
        "data['avg_fund_per_round']=data['funding_total_usd']/data['funding_rounds']\n",
        "data['avg_fund_per_round']=data['avg_fund_per_round'].fillna(0)\n",
        "data['avg_fund_per_round']=data['avg_fund_per_round'].astype('int')"
      ],
      "execution_count": null,
      "outputs": []
    },
    {
      "cell_type": "code",
      "metadata": {
        "id": "ukyY-x90SXGK",
        "colab_type": "code",
        "colab": {
          "base_uri": "https://localhost:8080/",
          "height": 360
        },
        "outputId": "92b0bc2b-ae78-4891-9bdc-e67d2b24abc0"
      },
      "source": [
        "data.head()"
      ],
      "execution_count": null,
      "outputs": [
        {
          "output_type": "execute_result",
          "data": {
            "text/html": [
              "<div>\n",
              "<style scoped>\n",
              "    .dataframe tbody tr th:only-of-type {\n",
              "        vertical-align: middle;\n",
              "    }\n",
              "\n",
              "    .dataframe tbody tr th {\n",
              "        vertical-align: top;\n",
              "    }\n",
              "\n",
              "    .dataframe thead th {\n",
              "        text-align: right;\n",
              "    }\n",
              "</style>\n",
              "<table border=\"1\" class=\"dataframe\">\n",
              "  <thead>\n",
              "    <tr style=\"text-align: right;\">\n",
              "      <th></th>\n",
              "      <th>id</th>\n",
              "      <th>entity_id</th>\n",
              "      <th>name</th>\n",
              "      <th>permalink</th>\n",
              "      <th>category_code</th>\n",
              "      <th>status</th>\n",
              "      <th>founded_at</th>\n",
              "      <th>description</th>\n",
              "      <th>overview</th>\n",
              "      <th>tag_list</th>\n",
              "      <th>country_code</th>\n",
              "      <th>state_code</th>\n",
              "      <th>city</th>\n",
              "      <th>region</th>\n",
              "      <th>investment_rounds</th>\n",
              "      <th>invested_companies</th>\n",
              "      <th>first_funding_at</th>\n",
              "      <th>last_funding_at</th>\n",
              "      <th>funding_rounds</th>\n",
              "      <th>funding_total_usd</th>\n",
              "      <th>first_milestone_at</th>\n",
              "      <th>last_milestone_at</th>\n",
              "      <th>milestones</th>\n",
              "      <th>relationships</th>\n",
              "      <th>created_by</th>\n",
              "      <th>price_amount</th>\n",
              "      <th>price_currency_code</th>\n",
              "      <th>acquired_at</th>\n",
              "      <th>is_IT/enterprise</th>\n",
              "      <th>is_USA_based</th>\n",
              "      <th>avg_fund_per_round</th>\n",
              "    </tr>\n",
              "  </thead>\n",
              "  <tbody>\n",
              "    <tr>\n",
              "      <th>0</th>\n",
              "      <td>c:1</td>\n",
              "      <td>1</td>\n",
              "      <td>Wetpaint</td>\n",
              "      <td>/company/wetpaint</td>\n",
              "      <td>web</td>\n",
              "      <td>non_acquired</td>\n",
              "      <td>2005-10-17</td>\n",
              "      <td>Technology Platform Company</td>\n",
              "      <td>Wetpaint is a technology platform company that...</td>\n",
              "      <td>wiki, seattle, elowitz, media-industry, media-...</td>\n",
              "      <td>USA</td>\n",
              "      <td>WA</td>\n",
              "      <td>Seattle</td>\n",
              "      <td>Seattle</td>\n",
              "      <td>0</td>\n",
              "      <td>0</td>\n",
              "      <td>2005-10-01</td>\n",
              "      <td>2008-05-19</td>\n",
              "      <td>3</td>\n",
              "      <td>39750000.0</td>\n",
              "      <td>2010-09-05</td>\n",
              "      <td>2013-09-18</td>\n",
              "      <td>5</td>\n",
              "      <td>17</td>\n",
              "      <td>initial-importer</td>\n",
              "      <td>NaN</td>\n",
              "      <td>NaN</td>\n",
              "      <td>NaN</td>\n",
              "      <td>1.0</td>\n",
              "      <td>1.0</td>\n",
              "      <td>13250000</td>\n",
              "    </tr>\n",
              "    <tr>\n",
              "      <th>1</th>\n",
              "      <td>c:1001</td>\n",
              "      <td>1001</td>\n",
              "      <td>FriendFeed</td>\n",
              "      <td>/company/friendfeed</td>\n",
              "      <td>web</td>\n",
              "      <td>acquired</td>\n",
              "      <td>2007-10-01</td>\n",
              "      <td>Social network aggregator</td>\n",
              "      <td>[FriendFeed](http://www.friendfeed.com) aims t...</td>\n",
              "      <td>socialnetwork, newsfeed, socialnetworkaggregator</td>\n",
              "      <td>USA</td>\n",
              "      <td>CA</td>\n",
              "      <td>Mountain View</td>\n",
              "      <td>SF Bay</td>\n",
              "      <td>0</td>\n",
              "      <td>0</td>\n",
              "      <td>2008-02-26</td>\n",
              "      <td>2008-02-26</td>\n",
              "      <td>1</td>\n",
              "      <td>5000000.0</td>\n",
              "      <td>2008-05-01</td>\n",
              "      <td>2012-09-13</td>\n",
              "      <td>3</td>\n",
              "      <td>14</td>\n",
              "      <td>initial-importer</td>\n",
              "      <td>47500000.0</td>\n",
              "      <td>USD</td>\n",
              "      <td>2009-08-10</td>\n",
              "      <td>1.0</td>\n",
              "      <td>1.0</td>\n",
              "      <td>5000000</td>\n",
              "    </tr>\n",
              "    <tr>\n",
              "      <th>2</th>\n",
              "      <td>c:10014</td>\n",
              "      <td>10014</td>\n",
              "      <td>Mobclix</td>\n",
              "      <td>/company/mobclix</td>\n",
              "      <td>Mobile Apps/services</td>\n",
              "      <td>acquired</td>\n",
              "      <td>2008-03-01</td>\n",
              "      <td>iPhone Ad Exchange Provider</td>\n",
              "      <td>Mobclix (www.mobclix.com) is the industry's la...</td>\n",
              "      <td>techcrunch50, tc50, iphone, analytics, free-de...</td>\n",
              "      <td>USA</td>\n",
              "      <td>CA</td>\n",
              "      <td>Palo Alto</td>\n",
              "      <td>SF Bay</td>\n",
              "      <td>0</td>\n",
              "      <td>0</td>\n",
              "      <td>2008-09-01</td>\n",
              "      <td>2008-09-01</td>\n",
              "      <td>1</td>\n",
              "      <td>0.0</td>\n",
              "      <td>1995-03-01</td>\n",
              "      <td>2012-09-18</td>\n",
              "      <td>4</td>\n",
              "      <td>9</td>\n",
              "      <td>NaN</td>\n",
              "      <td>0.0</td>\n",
              "      <td>USD</td>\n",
              "      <td>2010-09-30</td>\n",
              "      <td>0.0</td>\n",
              "      <td>1.0</td>\n",
              "      <td>0</td>\n",
              "    </tr>\n",
              "    <tr>\n",
              "      <th>3</th>\n",
              "      <td>c:100155</td>\n",
              "      <td>100155</td>\n",
              "      <td>MTPV</td>\n",
              "      <td>/company/mtpv</td>\n",
              "      <td>cleantech</td>\n",
              "      <td>non_acquired</td>\n",
              "      <td>2003-01-01</td>\n",
              "      <td>NaN</td>\n",
              "      <td>MTPV Corporation is a clean energy company foc...</td>\n",
              "      <td>NaN</td>\n",
              "      <td>USA</td>\n",
              "      <td>TX</td>\n",
              "      <td>Austin</td>\n",
              "      <td>Austin</td>\n",
              "      <td>0</td>\n",
              "      <td>0</td>\n",
              "      <td>2011-03-08</td>\n",
              "      <td>2012-01-26</td>\n",
              "      <td>3</td>\n",
              "      <td>10125293.0</td>\n",
              "      <td>2010-01-01</td>\n",
              "      <td>2010-01-01</td>\n",
              "      <td>1</td>\n",
              "      <td>6</td>\n",
              "      <td>arun</td>\n",
              "      <td>NaN</td>\n",
              "      <td>NaN</td>\n",
              "      <td>NaN</td>\n",
              "      <td>0.0</td>\n",
              "      <td>1.0</td>\n",
              "      <td>3375097</td>\n",
              "    </tr>\n",
              "    <tr>\n",
              "      <th>4</th>\n",
              "      <td>c:10018</td>\n",
              "      <td>10018</td>\n",
              "      <td>Demandbase</td>\n",
              "      <td>/company/demandbase</td>\n",
              "      <td>analytics</td>\n",
              "      <td>non_acquired</td>\n",
              "      <td>2006-01-01</td>\n",
              "      <td>NaN</td>\n",
              "      <td>Demandbase is the first targeting and personal...</td>\n",
              "      <td>NaN</td>\n",
              "      <td>USA</td>\n",
              "      <td>CA</td>\n",
              "      <td>San Francisco</td>\n",
              "      <td>SF Bay</td>\n",
              "      <td>0</td>\n",
              "      <td>0</td>\n",
              "      <td>2008-08-25</td>\n",
              "      <td>2013-03-28</td>\n",
              "      <td>3</td>\n",
              "      <td>33000000.0</td>\n",
              "      <td>2010-05-18</td>\n",
              "      <td>2013-03-01</td>\n",
              "      <td>3</td>\n",
              "      <td>19</td>\n",
              "      <td>jason</td>\n",
              "      <td>NaN</td>\n",
              "      <td>NaN</td>\n",
              "      <td>NaN</td>\n",
              "      <td>0.0</td>\n",
              "      <td>1.0</td>\n",
              "      <td>11000000</td>\n",
              "    </tr>\n",
              "  </tbody>\n",
              "</table>\n",
              "</div>"
            ],
            "text/plain": [
              "         id  entity_id  ... is_USA_based avg_fund_per_round\n",
              "0       c:1          1  ...          1.0           13250000\n",
              "1    c:1001       1001  ...          1.0            5000000\n",
              "2   c:10014      10014  ...          1.0                  0\n",
              "3  c:100155     100155  ...          1.0            3375097\n",
              "4   c:10018      10018  ...          1.0           11000000\n",
              "\n",
              "[5 rows x 31 columns]"
            ]
          },
          "metadata": {
            "tags": []
          },
          "execution_count": 309
        }
      ]
    },
    {
      "cell_type": "markdown",
      "metadata": {
        "id": "6TwoOsJCH_Og",
        "colab_type": "text"
      },
      "source": [
        "## Funding months difference"
      ]
    },
    {
      "cell_type": "code",
      "metadata": {
        "id": "jpkdkeEcst1z",
        "colab_type": "code",
        "colab": {
          "base_uri": "https://localhost:8080/",
          "height": 85
        },
        "outputId": "c886fb00-1f28-4073-b41b-2ce6c04e102e"
      },
      "source": [
        "data['first_funding_at'] = data['first_funding_at'].astype(str)\n",
        "data['last_funding_at']=data['last_funding_at'].astype(str)\n",
        "data['first_stripped'] = data['first_funding_at'].str.split('-')\n",
        "data['last_stripped'] = data['last_funding_at'].str.split('-')\n",
        "from datetime import date\n",
        "data['first_last_funding_diff']=\"\"\n",
        "for i in range(0,len(data)):\n",
        "  if((data['first_stripped'][i][0]!='nan') and (data['last_stripped'][i][0]!='nan')):\n",
        "    D1=data['first_stripped'][i][2]\n",
        "    M1=data['first_stripped'][i][1]\n",
        "    Y1=data['first_stripped'][i][0]\n",
        "    D2=data['last_stripped'][i][2]\n",
        "    M2=data['last_stripped'][i][1]\n",
        "    Y2=data['last_stripped'][i][0]\n",
        "    \n",
        "      \n",
        "    d0 = date(int(Y1), int(M1), int(D1))\n",
        "    d1 = date(int(Y2), int(M2), int(D2))\n",
        "    delta=d1-d0\n",
        "    data['first_last_funding_diff'][i]=int(delta.days/30)\n",
        "data=data.drop(['first_stripped'],axis=1)\n",
        "data=data.drop(['last_stripped'],axis=1)"
      ],
      "execution_count": null,
      "outputs": [
        {
          "output_type": "stream",
          "text": [
            "/usr/local/lib/python3.6/dist-packages/ipykernel_launcher.py:20: SettingWithCopyWarning: \n",
            "A value is trying to be set on a copy of a slice from a DataFrame\n",
            "\n",
            "See the caveats in the documentation: https://pandas.pydata.org/pandas-docs/stable/user_guide/indexing.html#returning-a-view-versus-a-copy\n"
          ],
          "name": "stderr"
        }
      ]
    },
    {
      "cell_type": "code",
      "metadata": {
        "id": "3QgH_l_OIdy1",
        "colab_type": "code",
        "colab": {
          "base_uri": "https://localhost:8080/",
          "height": 355
        },
        "outputId": "8a0d66af-52ea-4d94-db4c-c974c04f90bd"
      },
      "source": [
        "acq_data2=data[data['status']=='acquired']\n",
        "import matplotlib.pyplot as plt\n",
        "acq_data2['first_last_funding_diff'].value_counts()[1:20].plot(kind='barh', figsize=(10,5))    \n",
        "plt.xlabel('counts')\n",
        "plt.ylabel('difference in months')\n",
        "plt.title('Distribution of difference between first and last funding')\n",
        "plt.show()"
      ],
      "execution_count": null,
      "outputs": [
        {
          "output_type": "display_data",
          "data": {
            "image/png": "[encoded data removed]",
            "text/plain": [
              "<Figure size 720x360 with 1 Axes>"
            ]
          },
          "metadata": {
            "tags": [],
            "needs_background": "light"
          }
        }
      ]
    },
    {
      "cell_type": "markdown",
      "metadata": {
        "id": "K9zzQH4SIEd4",
        "colab_type": "text"
      },
      "source": [
        "## Milestone months difference"
      ]
    },
    {
      "cell_type": "code",
      "metadata": {
        "id": "t725cNk1F7IK",
        "colab_type": "code",
        "colab": {
          "base_uri": "https://localhost:8080/",
          "height": 85
        },
        "outputId": "6e767ba6-ec5d-4cdb-e42b-1fe54a3d5fa6"
      },
      "source": [
        "data['first_milestone_at'] = data['first_milestone_at'].astype(str)\n",
        "data['last_milestone_at']=data['last_milestone_at'].astype(str)\n",
        "data['first_stripped'] = data['first_milestone_at'].str.split('-')\n",
        "data['last_stripped'] = data['last_milestone_at'].str.split('-')\n",
        "from datetime import date\n",
        "data['first_last_milestone_diff']=\"\"\n",
        "for i in range(0,len(data)):\n",
        "  if((data['first_stripped'][i][0]!='nan') and (data['last_stripped'][i][0]!='nan')):\n",
        "    D1=data['first_stripped'][i][2]\n",
        "    M1=data['first_stripped'][i][1]\n",
        "    Y1=data['first_stripped'][i][0]\n",
        "    D2=data['last_stripped'][i][2]\n",
        "    M2=data['last_stripped'][i][1]\n",
        "    Y2=data['last_stripped'][i][0]\n",
        "    \n",
        "      \n",
        "    d0 = date(int(Y1), int(M1), int(D1))\n",
        "    d1 = date(int(Y2), int(M2), int(D2))\n",
        "    delta=d1-d0\n",
        "    data['first_last_milestone_diff'][i]=int(delta.days/30)\n",
        "data=data.drop(['first_stripped'],axis=1)\n",
        "data=data.drop(['last_stripped'],axis=1)"
      ],
      "execution_count": null,
      "outputs": [
        {
          "output_type": "stream",
          "text": [
            "/usr/local/lib/python3.6/dist-packages/ipykernel_launcher.py:20: SettingWithCopyWarning: \n",
            "A value is trying to be set on a copy of a slice from a DataFrame\n",
            "\n",
            "See the caveats in the documentation: https://pandas.pydata.org/pandas-docs/stable/user_guide/indexing.html#returning-a-view-versus-a-copy\n"
          ],
          "name": "stderr"
        }
      ]
    },
    {
      "cell_type": "code",
      "metadata": {
        "id": "4A-fdUtRI-Oh",
        "colab_type": "code",
        "colab": {
          "base_uri": "https://localhost:8080/",
          "height": 355
        },
        "outputId": "1d4f6c58-4790-418c-f246-09fb61e5b509"
      },
      "source": [
        "acq_data3=data[data['status']=='acquired']\n",
        "import matplotlib.pyplot as plt\n",
        "acq_data3['first_last_milestone_diff'].value_counts()[1:20].plot(kind='barh', figsize=(10,5))    \n",
        "plt.xlabel('counts')\n",
        "plt.ylabel('difference in months')\n",
        "plt.title('Distribution of difference between first and last milestone')\n",
        "plt.show()"
      ],
      "execution_count": null,
      "outputs": [
        {
          "output_type": "display_data",
          "data": {
            "image/png": "[encoded data removed]",
            "text/plain": [
              "<Figure size 720x360 with 1 Axes>"
            ]
          },
          "metadata": {
            "tags": [],
            "needs_background": "light"
          }
        }
      ]
    },
    {
      "cell_type": "markdown",
      "metadata": {
        "id": "G3pLZCKdSSVD",
        "colab_type": "text"
      },
      "source": [
        "## Average funding  round duration"
      ]
    },
    {
      "cell_type": "code",
      "metadata": {
        "id": "o4zi-92kGM7T",
        "colab_type": "code",
        "colab": {
          "base_uri": "https://localhost:8080/",
          "height": 102
        },
        "outputId": "c7bea08d-874a-454b-c242-f4509f2f66cd"
      },
      "source": [
        "data['avg_duration_fund']=\"\"\n",
        "for i in range(0,len(data)):\n",
        "  if(data['funding_rounds'][i]!=0):\n",
        "    data['avg_duration_fund'][i]=data['first_last_funding_diff'][i]/data['funding_rounds'][i]"
      ],
      "execution_count": null,
      "outputs": [
        {
          "output_type": "stream",
          "text": [
            "/usr/local/lib/python3.6/dist-packages/ipykernel_launcher.py:4: SettingWithCopyWarning: \n",
            "A value is trying to be set on a copy of a slice from a DataFrame\n",
            "\n",
            "See the caveats in the documentation: https://pandas.pydata.org/pandas-docs/stable/user_guide/indexing.html#returning-a-view-versus-a-copy\n",
            "  after removing the cwd from sys.path.\n"
          ],
          "name": "stderr"
        }
      ]
    },
    {
      "cell_type": "code",
      "metadata": {
        "id": "532PIWoUEpSw",
        "colab_type": "code",
        "colab": {
          "base_uri": "https://localhost:8080/",
          "height": 398
        },
        "outputId": "6d382f38-ac2f-4177-fb76-1bae207f725c"
      },
      "source": [
        "l1=list(data['avg_duration_fund'])\n",
        "l2=list(data['entity_id'])\n",
        "l3=list(data['status'])\n",
        "diff_data=pd.DataFrame({'id':[x for x in range(0,len(l1))],'time':l1,'status':l3}).sort_values(by=['id'])\n",
        "sns.relplot(x=\"id\", y=\"time\", kind=\"line\",hue='status' , data=diff_data[0:70],height=5,aspect=2)\n",
        "plt.title('average funding duration of 70 companies')"
      ],
      "execution_count": null,
      "outputs": [
        {
          "output_type": "execute_result",
          "data": {
            "text/plain": [
              "Text(0.5, 1.0, 'average funding duration of 70 companies')"
            ]
          },
          "metadata": {
            "tags": []
          },
          "execution_count": 315
        },
        {
          "output_type": "display_data",
          "data": {
            "image/png": "[encoded data removed]",
            "text/plain": [
              "<Figure size 833.975x360 with 1 Axes>"
            ]
          },
          "metadata": {
            "tags": [],
            "needs_background": "light"
          }
        }
      ]
    },
    {
      "cell_type": "markdown",
      "metadata": {
        "id": "F9_Pbh54TmvV",
        "colab_type": "text"
      },
      "source": [
        "## Average Milestone duration"
      ]
    },
    {
      "cell_type": "code",
      "metadata": {
        "id": "y68upRpATqzc",
        "colab_type": "code",
        "colab": {
          "base_uri": "https://localhost:8080/",
          "height": 102
        },
        "outputId": "bd48d0f3-e568-4d45-9f4a-17f44f7df97c"
      },
      "source": [
        "data['avg_duration_miletone']=\"\"\n",
        "for i in range(0,len(data)):\n",
        "  if(data['milestones'][i]!=0):\n",
        "    data['avg_duration_miletone'][i]=data['first_last_milestone_diff'][i]/data['milestones'][i]"
      ],
      "execution_count": null,
      "outputs": [
        {
          "output_type": "stream",
          "text": [
            "/usr/local/lib/python3.6/dist-packages/ipykernel_launcher.py:4: SettingWithCopyWarning: \n",
            "A value is trying to be set on a copy of a slice from a DataFrame\n",
            "\n",
            "See the caveats in the documentation: https://pandas.pydata.org/pandas-docs/stable/user_guide/indexing.html#returning-a-view-versus-a-copy\n",
            "  after removing the cwd from sys.path.\n"
          ],
          "name": "stderr"
        }
      ]
    },
    {
      "cell_type": "code",
      "metadata": {
        "id": "HKFruUBjULkY",
        "colab_type": "code",
        "colab": {
          "base_uri": "https://localhost:8080/",
          "height": 360
        },
        "outputId": "f096ad5a-9a7b-475e-cf32-bfe5cf0d22ef"
      },
      "source": [
        "data.head()"
      ],
      "execution_count": null,
      "outputs": [
        {
          "output_type": "execute_result",
          "data": {
            "text/html": [
              "<div>\n",
              "<style scoped>\n",
              "    .dataframe tbody tr th:only-of-type {\n",
              "        vertical-align: middle;\n",
              "    }\n",
              "\n",
              "    .dataframe tbody tr th {\n",
              "        vertical-align: top;\n",
              "    }\n",
              "\n",
              "    .dataframe thead th {\n",
              "        text-align: right;\n",
              "    }\n",
              "</style>\n",
              "<table border=\"1\" class=\"dataframe\">\n",
              "  <thead>\n",
              "    <tr style=\"text-align: right;\">\n",
              "      <th></th>\n",
              "      <th>id</th>\n",
              "      <th>entity_id</th>\n",
              "      <th>name</th>\n",
              "      <th>permalink</th>\n",
              "      <th>category_code</th>\n",
              "      <th>status</th>\n",
              "      <th>founded_at</th>\n",
              "      <th>description</th>\n",
              "      <th>overview</th>\n",
              "      <th>tag_list</th>\n",
              "      <th>country_code</th>\n",
              "      <th>state_code</th>\n",
              "      <th>city</th>\n",
              "      <th>region</th>\n",
              "      <th>investment_rounds</th>\n",
              "      <th>invested_companies</th>\n",
              "      <th>first_funding_at</th>\n",
              "      <th>last_funding_at</th>\n",
              "      <th>funding_rounds</th>\n",
              "      <th>funding_total_usd</th>\n",
              "      <th>first_milestone_at</th>\n",
              "      <th>last_milestone_at</th>\n",
              "      <th>milestones</th>\n",
              "      <th>relationships</th>\n",
              "      <th>created_by</th>\n",
              "      <th>price_amount</th>\n",
              "      <th>price_currency_code</th>\n",
              "      <th>acquired_at</th>\n",
              "      <th>is_IT/enterprise</th>\n",
              "      <th>is_USA_based</th>\n",
              "      <th>avg_fund_per_round</th>\n",
              "      <th>first_last_funding_diff</th>\n",
              "      <th>first_last_milestone_diff</th>\n",
              "      <th>avg_duration_fund</th>\n",
              "      <th>avg_duration_miletone</th>\n",
              "    </tr>\n",
              "  </thead>\n",
              "  <tbody>\n",
              "    <tr>\n",
              "      <th>0</th>\n",
              "      <td>c:1</td>\n",
              "      <td>1</td>\n",
              "      <td>Wetpaint</td>\n",
              "      <td>/company/wetpaint</td>\n",
              "      <td>web</td>\n",
              "      <td>non_acquired</td>\n",
              "      <td>2005-10-17</td>\n",
              "      <td>Technology Platform Company</td>\n",
              "      <td>Wetpaint is a technology platform company that...</td>\n",
              "      <td>wiki, seattle, elowitz, media-industry, media-...</td>\n",
              "      <td>USA</td>\n",
              "      <td>WA</td>\n",
              "      <td>Seattle</td>\n",
              "      <td>Seattle</td>\n",
              "      <td>0</td>\n",
              "      <td>0</td>\n",
              "      <td>2005-10-01</td>\n",
              "      <td>2008-05-19</td>\n",
              "      <td>3</td>\n",
              "      <td>39750000.0</td>\n",
              "      <td>2010-09-05</td>\n",
              "      <td>2013-09-18</td>\n",
              "      <td>5</td>\n",
              "      <td>17</td>\n",
              "      <td>initial-importer</td>\n",
              "      <td>NaN</td>\n",
              "      <td>NaN</td>\n",
              "      <td>NaN</td>\n",
              "      <td>1.0</td>\n",
              "      <td>1.0</td>\n",
              "      <td>13250000</td>\n",
              "      <td>32</td>\n",
              "      <td>36</td>\n",
              "      <td>10.6667</td>\n",
              "      <td>7.2</td>\n",
              "    </tr>\n",
              "    <tr>\n",
              "      <th>1</th>\n",
              "      <td>c:1001</td>\n",
              "      <td>1001</td>\n",
              "      <td>FriendFeed</td>\n",
              "      <td>/company/friendfeed</td>\n",
              "      <td>web</td>\n",
              "      <td>acquired</td>\n",
              "      <td>2007-10-01</td>\n",
              "      <td>Social network aggregator</td>\n",
              "      <td>[FriendFeed](http://www.friendfeed.com) aims t...</td>\n",
              "      <td>socialnetwork, newsfeed, socialnetworkaggregator</td>\n",
              "      <td>USA</td>\n",
              "      <td>CA</td>\n",
              "      <td>Mountain View</td>\n",
              "      <td>SF Bay</td>\n",
              "      <td>0</td>\n",
              "      <td>0</td>\n",
              "      <td>2008-02-26</td>\n",
              "      <td>2008-02-26</td>\n",
              "      <td>1</td>\n",
              "      <td>5000000.0</td>\n",
              "      <td>2008-05-01</td>\n",
              "      <td>2012-09-13</td>\n",
              "      <td>3</td>\n",
              "      <td>14</td>\n",
              "      <td>initial-importer</td>\n",
              "      <td>47500000.0</td>\n",
              "      <td>USD</td>\n",
              "      <td>2009-08-10</td>\n",
              "      <td>1.0</td>\n",
              "      <td>1.0</td>\n",
              "      <td>5000000</td>\n",
              "      <td>0</td>\n",
              "      <td>53</td>\n",
              "      <td>0</td>\n",
              "      <td>17.6667</td>\n",
              "    </tr>\n",
              "    <tr>\n",
              "      <th>2</th>\n",
              "      <td>c:10014</td>\n",
              "      <td>10014</td>\n",
              "      <td>Mobclix</td>\n",
              "      <td>/company/mobclix</td>\n",
              "      <td>Mobile Apps/services</td>\n",
              "      <td>acquired</td>\n",
              "      <td>2008-03-01</td>\n",
              "      <td>iPhone Ad Exchange Provider</td>\n",
              "      <td>Mobclix (www.mobclix.com) is the industry's la...</td>\n",
              "      <td>techcrunch50, tc50, iphone, analytics, free-de...</td>\n",
              "      <td>USA</td>\n",
              "      <td>CA</td>\n",
              "      <td>Palo Alto</td>\n",
              "      <td>SF Bay</td>\n",
              "      <td>0</td>\n",
              "      <td>0</td>\n",
              "      <td>2008-09-01</td>\n",
              "      <td>2008-09-01</td>\n",
              "      <td>1</td>\n",
              "      <td>0.0</td>\n",
              "      <td>1995-03-01</td>\n",
              "      <td>2012-09-18</td>\n",
              "      <td>4</td>\n",
              "      <td>9</td>\n",
              "      <td>NaN</td>\n",
              "      <td>0.0</td>\n",
              "      <td>USD</td>\n",
              "      <td>2010-09-30</td>\n",
              "      <td>0.0</td>\n",
              "      <td>1.0</td>\n",
              "      <td>0</td>\n",
              "      <td>0</td>\n",
              "      <td>213</td>\n",
              "      <td>0</td>\n",
              "      <td>53.25</td>\n",
              "    </tr>\n",
              "    <tr>\n",
              "      <th>3</th>\n",
              "      <td>c:100155</td>\n",
              "      <td>100155</td>\n",
              "      <td>MTPV</td>\n",
              "      <td>/company/mtpv</td>\n",
              "      <td>cleantech</td>\n",
              "      <td>non_acquired</td>\n",
              "      <td>2003-01-01</td>\n",
              "      <td>NaN</td>\n",
              "      <td>MTPV Corporation is a clean energy company foc...</td>\n",
              "      <td>NaN</td>\n",
              "      <td>USA</td>\n",
              "      <td>TX</td>\n",
              "      <td>Austin</td>\n",
              "      <td>Austin</td>\n",
              "      <td>0</td>\n",
              "      <td>0</td>\n",
              "      <td>2011-03-08</td>\n",
              "      <td>2012-01-26</td>\n",
              "      <td>3</td>\n",
              "      <td>10125293.0</td>\n",
              "      <td>2010-01-01</td>\n",
              "      <td>2010-01-01</td>\n",
              "      <td>1</td>\n",
              "      <td>6</td>\n",
              "      <td>arun</td>\n",
              "      <td>NaN</td>\n",
              "      <td>NaN</td>\n",
              "      <td>NaN</td>\n",
              "      <td>0.0</td>\n",
              "      <td>1.0</td>\n",
              "      <td>3375097</td>\n",
              "      <td>10</td>\n",
              "      <td>0</td>\n",
              "      <td>3.33333</td>\n",
              "      <td>0</td>\n",
              "    </tr>\n",
              "    <tr>\n",
              "      <th>4</th>\n",
              "      <td>c:10018</td>\n",
              "      <td>10018</td>\n",
              "      <td>Demandbase</td>\n",
              "      <td>/company/demandbase</td>\n",
              "      <td>analytics</td>\n",
              "      <td>non_acquired</td>\n",
              "      <td>2006-01-01</td>\n",
              "      <td>NaN</td>\n",
              "      <td>Demandbase is the first targeting and personal...</td>\n",
              "      <td>NaN</td>\n",
              "      <td>USA</td>\n",
              "      <td>CA</td>\n",
              "      <td>San Francisco</td>\n",
              "      <td>SF Bay</td>\n",
              "      <td>0</td>\n",
              "      <td>0</td>\n",
              "      <td>2008-08-25</td>\n",
              "      <td>2013-03-28</td>\n",
              "      <td>3</td>\n",
              "      <td>33000000.0</td>\n",
              "      <td>2010-05-18</td>\n",
              "      <td>2013-03-01</td>\n",
              "      <td>3</td>\n",
              "      <td>19</td>\n",
              "      <td>jason</td>\n",
              "      <td>NaN</td>\n",
              "      <td>NaN</td>\n",
              "      <td>NaN</td>\n",
              "      <td>0.0</td>\n",
              "      <td>1.0</td>\n",
              "      <td>11000000</td>\n",
              "      <td>55</td>\n",
              "      <td>33</td>\n",
              "      <td>18.3333</td>\n",
              "      <td>11</td>\n",
              "    </tr>\n",
              "  </tbody>\n",
              "</table>\n",
              "</div>"
            ],
            "text/plain": [
              "         id  entity_id  ... avg_duration_fund avg_duration_miletone\n",
              "0       c:1          1  ...           10.6667                   7.2\n",
              "1    c:1001       1001  ...                 0               17.6667\n",
              "2   c:10014      10014  ...                 0                 53.25\n",
              "3  c:100155     100155  ...           3.33333                     0\n",
              "4   c:10018      10018  ...           18.3333                    11\n",
              "\n",
              "[5 rows x 35 columns]"
            ]
          },
          "metadata": {
            "tags": []
          },
          "execution_count": 317
        }
      ]
    },
    {
      "cell_type": "markdown",
      "metadata": {
        "id": "W50-Ld9Epms5",
        "colab_type": "text"
      },
      "source": [
        "## Non invested compaies"
      ]
    },
    {
      "cell_type": "code",
      "metadata": {
        "id": "SBEYL09bQxuW",
        "colab_type": "code",
        "colab": {}
      },
      "source": [
        "data['non_invested']=data['relationships']-data['invested_companies']"
      ],
      "execution_count": null,
      "outputs": []
    },
    {
      "cell_type": "code",
      "metadata": {
        "id": "2vhsV5eQRX8t",
        "colab_type": "code",
        "colab": {
          "base_uri": "https://localhost:8080/",
          "height": 425
        },
        "outputId": "d0851bf5-34b0-4c46-910c-2911a23762eb"
      },
      "source": [
        "data.head(6)"
      ],
      "execution_count": null,
      "outputs": [
        {
          "output_type": "execute_result",
          "data": {
            "text/html": [
              "<div>\n",
              "<style scoped>\n",
              "    .dataframe tbody tr th:only-of-type {\n",
              "        vertical-align: middle;\n",
              "    }\n",
              "\n",
              "    .dataframe tbody tr th {\n",
              "        vertical-align: top;\n",
              "    }\n",
              "\n",
              "    .dataframe thead th {\n",
              "        text-align: right;\n",
              "    }\n",
              "</style>\n",
              "<table border=\"1\" class=\"dataframe\">\n",
              "  <thead>\n",
              "    <tr style=\"text-align: right;\">\n",
              "      <th></th>\n",
              "      <th>id</th>\n",
              "      <th>entity_id</th>\n",
              "      <th>name</th>\n",
              "      <th>permalink</th>\n",
              "      <th>category_code</th>\n",
              "      <th>status</th>\n",
              "      <th>founded_at</th>\n",
              "      <th>description</th>\n",
              "      <th>overview</th>\n",
              "      <th>tag_list</th>\n",
              "      <th>country_code</th>\n",
              "      <th>state_code</th>\n",
              "      <th>city</th>\n",
              "      <th>region</th>\n",
              "      <th>investment_rounds</th>\n",
              "      <th>invested_companies</th>\n",
              "      <th>first_funding_at</th>\n",
              "      <th>last_funding_at</th>\n",
              "      <th>funding_rounds</th>\n",
              "      <th>funding_total_usd</th>\n",
              "      <th>first_milestone_at</th>\n",
              "      <th>last_milestone_at</th>\n",
              "      <th>milestones</th>\n",
              "      <th>relationships</th>\n",
              "      <th>created_by</th>\n",
              "      <th>price_amount</th>\n",
              "      <th>price_currency_code</th>\n",
              "      <th>acquired_at</th>\n",
              "      <th>is_IT/enterprise</th>\n",
              "      <th>is_USA_based</th>\n",
              "      <th>avg_fund_per_round</th>\n",
              "      <th>first_last_funding_diff</th>\n",
              "      <th>first_last_milestone_diff</th>\n",
              "      <th>avg_duration_fund</th>\n",
              "      <th>avg_duration_miletone</th>\n",
              "      <th>non_invested</th>\n",
              "    </tr>\n",
              "  </thead>\n",
              "  <tbody>\n",
              "    <tr>\n",
              "      <th>0</th>\n",
              "      <td>c:1</td>\n",
              "      <td>1</td>\n",
              "      <td>Wetpaint</td>\n",
              "      <td>/company/wetpaint</td>\n",
              "      <td>web</td>\n",
              "      <td>non_acquired</td>\n",
              "      <td>2005-10-17</td>\n",
              "      <td>Technology Platform Company</td>\n",
              "      <td>Wetpaint is a technology platform company that...</td>\n",
              "      <td>wiki, seattle, elowitz, media-industry, media-...</td>\n",
              "      <td>USA</td>\n",
              "      <td>WA</td>\n",
              "      <td>Seattle</td>\n",
              "      <td>Seattle</td>\n",
              "      <td>0</td>\n",
              "      <td>0</td>\n",
              "      <td>2005-10-01</td>\n",
              "      <td>2008-05-19</td>\n",
              "      <td>3</td>\n",
              "      <td>39750000.0</td>\n",
              "      <td>2010-09-05</td>\n",
              "      <td>2013-09-18</td>\n",
              "      <td>5</td>\n",
              "      <td>17</td>\n",
              "      <td>initial-importer</td>\n",
              "      <td>NaN</td>\n",
              "      <td>NaN</td>\n",
              "      <td>NaN</td>\n",
              "      <td>1.0</td>\n",
              "      <td>1.0</td>\n",
              "      <td>13250000</td>\n",
              "      <td>32</td>\n",
              "      <td>36</td>\n",
              "      <td>10.6667</td>\n",
              "      <td>7.2</td>\n",
              "      <td>17</td>\n",
              "    </tr>\n",
              "    <tr>\n",
              "      <th>1</th>\n",
              "      <td>c:1001</td>\n",
              "      <td>1001</td>\n",
              "      <td>FriendFeed</td>\n",
              "      <td>/company/friendfeed</td>\n",
              "      <td>web</td>\n",
              "      <td>acquired</td>\n",
              "      <td>2007-10-01</td>\n",
              "      <td>Social network aggregator</td>\n",
              "      <td>[FriendFeed](http://www.friendfeed.com) aims t...</td>\n",
              "      <td>socialnetwork, newsfeed, socialnetworkaggregator</td>\n",
              "      <td>USA</td>\n",
              "      <td>CA</td>\n",
              "      <td>Mountain View</td>\n",
              "      <td>SF Bay</td>\n",
              "      <td>0</td>\n",
              "      <td>0</td>\n",
              "      <td>2008-02-26</td>\n",
              "      <td>2008-02-26</td>\n",
              "      <td>1</td>\n",
              "      <td>5000000.0</td>\n",
              "      <td>2008-05-01</td>\n",
              "      <td>2012-09-13</td>\n",
              "      <td>3</td>\n",
              "      <td>14</td>\n",
              "      <td>initial-importer</td>\n",
              "      <td>47500000.0</td>\n",
              "      <td>USD</td>\n",
              "      <td>2009-08-10</td>\n",
              "      <td>1.0</td>\n",
              "      <td>1.0</td>\n",
              "      <td>5000000</td>\n",
              "      <td>0</td>\n",
              "      <td>53</td>\n",
              "      <td>0</td>\n",
              "      <td>17.6667</td>\n",
              "      <td>14</td>\n",
              "    </tr>\n",
              "    <tr>\n",
              "      <th>2</th>\n",
              "      <td>c:10014</td>\n",
              "      <td>10014</td>\n",
              "      <td>Mobclix</td>\n",
              "      <td>/company/mobclix</td>\n",
              "      <td>Mobile Apps/services</td>\n",
              "      <td>acquired</td>\n",
              "      <td>2008-03-01</td>\n",
              "      <td>iPhone Ad Exchange Provider</td>\n",
              "      <td>Mobclix (www.mobclix.com) is the industry's la...</td>\n",
              "      <td>techcrunch50, tc50, iphone, analytics, free-de...</td>\n",
              "      <td>USA</td>\n",
              "      <td>CA</td>\n",
              "      <td>Palo Alto</td>\n",
              "      <td>SF Bay</td>\n",
              "      <td>0</td>\n",
              "      <td>0</td>\n",
              "      <td>2008-09-01</td>\n",
              "      <td>2008-09-01</td>\n",
              "      <td>1</td>\n",
              "      <td>0.0</td>\n",
              "      <td>1995-03-01</td>\n",
              "      <td>2012-09-18</td>\n",
              "      <td>4</td>\n",
              "      <td>9</td>\n",
              "      <td>NaN</td>\n",
              "      <td>0.0</td>\n",
              "      <td>USD</td>\n",
              "      <td>2010-09-30</td>\n",
              "      <td>0.0</td>\n",
              "      <td>1.0</td>\n",
              "      <td>0</td>\n",
              "      <td>0</td>\n",
              "      <td>213</td>\n",
              "      <td>0</td>\n",
              "      <td>53.25</td>\n",
              "      <td>9</td>\n",
              "    </tr>\n",
              "    <tr>\n",
              "      <th>3</th>\n",
              "      <td>c:100155</td>\n",
              "      <td>100155</td>\n",
              "      <td>MTPV</td>\n",
              "      <td>/company/mtpv</td>\n",
              "      <td>cleantech</td>\n",
              "      <td>non_acquired</td>\n",
              "      <td>2003-01-01</td>\n",
              "      <td>NaN</td>\n",
              "      <td>MTPV Corporation is a clean energy company foc...</td>\n",
              "      <td>NaN</td>\n",
              "      <td>USA</td>\n",
              "      <td>TX</td>\n",
              "      <td>Austin</td>\n",
              "      <td>Austin</td>\n",
              "      <td>0</td>\n",
              "      <td>0</td>\n",
              "      <td>2011-03-08</td>\n",
              "      <td>2012-01-26</td>\n",
              "      <td>3</td>\n",
              "      <td>10125293.0</td>\n",
              "      <td>2010-01-01</td>\n",
              "      <td>2010-01-01</td>\n",
              "      <td>1</td>\n",
              "      <td>6</td>\n",
              "      <td>arun</td>\n",
              "      <td>NaN</td>\n",
              "      <td>NaN</td>\n",
              "      <td>NaN</td>\n",
              "      <td>0.0</td>\n",
              "      <td>1.0</td>\n",
              "      <td>3375097</td>\n",
              "      <td>10</td>\n",
              "      <td>0</td>\n",
              "      <td>3.33333</td>\n",
              "      <td>0</td>\n",
              "      <td>6</td>\n",
              "    </tr>\n",
              "    <tr>\n",
              "      <th>4</th>\n",
              "      <td>c:10018</td>\n",
              "      <td>10018</td>\n",
              "      <td>Demandbase</td>\n",
              "      <td>/company/demandbase</td>\n",
              "      <td>analytics</td>\n",
              "      <td>non_acquired</td>\n",
              "      <td>2006-01-01</td>\n",
              "      <td>NaN</td>\n",
              "      <td>Demandbase is the first targeting and personal...</td>\n",
              "      <td>NaN</td>\n",
              "      <td>USA</td>\n",
              "      <td>CA</td>\n",
              "      <td>San Francisco</td>\n",
              "      <td>SF Bay</td>\n",
              "      <td>0</td>\n",
              "      <td>0</td>\n",
              "      <td>2008-08-25</td>\n",
              "      <td>2013-03-28</td>\n",
              "      <td>3</td>\n",
              "      <td>33000000.0</td>\n",
              "      <td>2010-05-18</td>\n",
              "      <td>2013-03-01</td>\n",
              "      <td>3</td>\n",
              "      <td>19</td>\n",
              "      <td>jason</td>\n",
              "      <td>NaN</td>\n",
              "      <td>NaN</td>\n",
              "      <td>NaN</td>\n",
              "      <td>0.0</td>\n",
              "      <td>1.0</td>\n",
              "      <td>11000000</td>\n",
              "      <td>55</td>\n",
              "      <td>33</td>\n",
              "      <td>18.3333</td>\n",
              "      <td>11</td>\n",
              "      <td>19</td>\n",
              "    </tr>\n",
              "    <tr>\n",
              "      <th>5</th>\n",
              "      <td>c:100189</td>\n",
              "      <td>100189</td>\n",
              "      <td>Locatrix Communications</td>\n",
              "      <td>/company/locatrix-communications</td>\n",
              "      <td>Mobile Apps/services</td>\n",
              "      <td>non_acquired</td>\n",
              "      <td>2003-11-01</td>\n",
              "      <td>Mobile software developer</td>\n",
              "      <td>Locatrix Communications is one of AustraliaÂs...</td>\n",
              "      <td>mobile, location-based, wireless, applications...</td>\n",
              "      <td>AUS</td>\n",
              "      <td>NaN</td>\n",
              "      <td>Brisbane</td>\n",
              "      <td>SF Bay</td>\n",
              "      <td>0</td>\n",
              "      <td>0</td>\n",
              "      <td>2003-11-01</td>\n",
              "      <td>2003-11-01</td>\n",
              "      <td>1</td>\n",
              "      <td>250000.0</td>\n",
              "      <td>2007-11-01</td>\n",
              "      <td>2007-11-01</td>\n",
              "      <td>1</td>\n",
              "      <td>2</td>\n",
              "      <td>mwhite41</td>\n",
              "      <td>NaN</td>\n",
              "      <td>NaN</td>\n",
              "      <td>NaN</td>\n",
              "      <td>0.0</td>\n",
              "      <td>0.0</td>\n",
              "      <td>250000</td>\n",
              "      <td>0</td>\n",
              "      <td>0</td>\n",
              "      <td>0</td>\n",
              "      <td>0</td>\n",
              "      <td>2</td>\n",
              "    </tr>\n",
              "  </tbody>\n",
              "</table>\n",
              "</div>"
            ],
            "text/plain": [
              "         id  entity_id  ... avg_duration_miletone non_invested\n",
              "0       c:1          1  ...                   7.2           17\n",
              "1    c:1001       1001  ...               17.6667           14\n",
              "2   c:10014      10014  ...                 53.25            9\n",
              "3  c:100155     100155  ...                     0            6\n",
              "4   c:10018      10018  ...                    11           19\n",
              "5  c:100189     100189  ...                     0            2\n",
              "\n",
              "[6 rows x 36 columns]"
            ]
          },
          "metadata": {
            "tags": []
          },
          "execution_count": 319
        }
      ]
    },
    {
      "cell_type": "markdown",
      "metadata": {
        "id": "HYIYBaHxP7Ys",
        "colab_type": "text"
      },
      "source": [
        "## Investment rounds and no. of relations"
      ]
    },
    {
      "cell_type": "code",
      "metadata": {
        "id": "CWmIr53EwAM7",
        "colab_type": "code",
        "colab": {}
      },
      "source": [
        "tableau_20=[(31,119,180),(174,199,232),(255,127,14),(255,187,120)]\n",
        "for i in range(len(tableau_20)):\n",
        "  r,g,b=tableau_20[i]\n",
        "  tableau_20[i]=(r/255.,g/255.,b/255.)"
      ],
      "execution_count": null,
      "outputs": []
    },
    {
      "cell_type": "code",
      "metadata": {
        "id": "BBxtxyjOGolf",
        "colab_type": "code",
        "colab": {
          "base_uri": "https://localhost:8080/",
          "height": 398
        },
        "outputId": "52bc4a31-70cc-4b16-d7db-2d29dcff9164"
      },
      "source": [
        "sns.lmplot(x=\"relationships\", y=\"investment_rounds\",data=data[data['status']=='acquired'],scatter_kws={'color':tableau_20[2],'alpha':0.75},height=5,aspect=2);\n",
        "plt.title('For acquired companies')"
      ],
      "execution_count": null,
      "outputs": [
        {
          "output_type": "execute_result",
          "data": {
            "text/plain": [
              "Text(0.5, 1.0, 'For acquired companies')"
            ]
          },
          "metadata": {
            "tags": []
          },
          "execution_count": 321
        },
        {
          "output_type": "display_data",
          "data": {
            "image/png": "[encoded data removed]",
            "text/plain": [
              "<Figure size 720x360 with 1 Axes>"
            ]
          },
          "metadata": {
            "tags": [],
            "needs_background": "light"
          }
        }
      ]
    },
    {
      "cell_type": "code",
      "metadata": {
        "id": "14bkdM7ao2BN",
        "colab_type": "code",
        "colab": {
          "base_uri": "https://localhost:8080/",
          "height": 395
        },
        "outputId": "5ccac257-dcb3-48ba-8ea4-08400cfcc003"
      },
      "source": [
        "sns.lmplot(x=\"relationships\", y=\"investment_rounds\",data=data[data['status']=='non_acquired'],scatter_kws={'color':tableau_20[2],'alpha':0.75},height=5,aspect=2);\n",
        "plt.title('For non acquired companies')"
      ],
      "execution_count": null,
      "outputs": [
        {
          "output_type": "execute_result",
          "data": {
            "text/plain": [
              "Text(0.5, 1.0, 'For non acquired companies')"
            ]
          },
          "metadata": {
            "tags": []
          },
          "execution_count": 322
        },
        {
          "output_type": "display_data",
          "data": {
            "image/png": "[encoded data removed]",
            "text/plain": [
              "<Figure size 720x360 with 1 Axes>"
            ]
          },
          "metadata": {
            "tags": [],
            "needs_background": "light"
          }
        }
      ]
    },
    {
      "cell_type": "markdown",
      "metadata": {
        "id": "ZEnscAtJIJrL",
        "colab_type": "text"
      },
      "source": [
        "# Tag list analysis"
      ]
    },
    {
      "cell_type": "code",
      "metadata": {
        "id": "M7f5AIKDRh-2",
        "colab_type": "code",
        "colab": {
          "base_uri": "https://localhost:8080/",
          "height": 356
        },
        "outputId": "479159f7-fa66-4a2f-f0b9-e46a8eb13c05"
      },
      "source": [
        "data['tag_list']=data['tag_list'].astype(str)\n",
        "acq_data4=data[data['status']=='acquired']\n",
        "acq_data4=acq_data4.set_index(pd.Series([i for i in range(0,len(acq_data4))]))\n",
        "tags=[]\n",
        "for i in range(0,len(acq_data4)):\n",
        "  if(acq_data4['tag_list'][i]!='nan'):\n",
        "    tags.extend(list(acq_data4['tag_list'][i].split(\",\")))\n",
        "pd.Index(list(tags)).value_counts().head(20).plot(kind='barh', figsize=(10,5))\n",
        "plt.xlabel('counts')\n",
        "plt.ylabel('tags')"
      ],
      "execution_count": null,
      "outputs": [
        {
          "output_type": "execute_result",
          "data": {
            "text/plain": [
              "Text(0, 0.5, 'tags')"
            ]
          },
          "metadata": {
            "tags": []
          },
          "execution_count": 323
        },
        {
          "output_type": "display_data",
          "data": {
            "image/png": "[encoded data removed]",
            "text/plain": [
              "<Figure size 720x360 with 1 Axes>"
            ]
          },
          "metadata": {
            "tags": [],
            "needs_background": "light"
          }
        }
      ]
    },
    {
      "cell_type": "code",
      "metadata": {
        "id": "tP8QXAOf0PVF",
        "colab_type": "code",
        "colab": {
          "base_uri": "https://localhost:8080/",
          "height": 356
        },
        "outputId": "f7873a97-4f8a-42e5-b4cc-3a0a8bc79007"
      },
      "source": [
        "data['tag_list']=data['tag_list'].astype(str)\n",
        "acq_data4=data[data['status']=='non_acquired']\n",
        "acq_data4=acq_data4.set_index(pd.Series([i for i in range(0,len(acq_data4))]))\n",
        "tags=[]\n",
        "for i in range(0,len(acq_data4)):\n",
        "  if(acq_data4['tag_list'][i]!='nan'):\n",
        "    tags.extend(list(acq_data4['tag_list'][i].split(\",\")))\n",
        "pd.Index(list(tags)).value_counts().head(20).plot(kind='barh', figsize=(10,5))\n",
        "plt.xlabel('counts')\n",
        "plt.ylabel('tags')"
      ],
      "execution_count": null,
      "outputs": [
        {
          "output_type": "execute_result",
          "data": {
            "text/plain": [
              "Text(0, 0.5, 'tags')"
            ]
          },
          "metadata": {
            "tags": []
          },
          "execution_count": 324
        },
        {
          "output_type": "display_data",
          "data": {
            "image/png": "[encoded data removed]",
            "text/plain": [
              "<Figure size 720x360 with 1 Axes>"
            ]
          },
          "metadata": {
            "tags": [],
            "needs_background": "light"
          }
        }
      ]
    },
    {
      "cell_type": "code",
      "metadata": {
        "id": "q_vsDteVtyJu",
        "colab_type": "code",
        "colab": {
          "base_uri": "https://localhost:8080/",
          "height": 360
        },
        "outputId": "52b504e0-6b91-44bf-b1cf-c946e4dc07de"
      },
      "source": [
        "data.head()"
      ],
      "execution_count": null,
      "outputs": [
        {
          "output_type": "execute_result",
          "data": {
            "text/html": [
              "<div>\n",
              "<style scoped>\n",
              "    .dataframe tbody tr th:only-of-type {\n",
              "        vertical-align: middle;\n",
              "    }\n",
              "\n",
              "    .dataframe tbody tr th {\n",
              "        vertical-align: top;\n",
              "    }\n",
              "\n",
              "    .dataframe thead th {\n",
              "        text-align: right;\n",
              "    }\n",
              "</style>\n",
              "<table border=\"1\" class=\"dataframe\">\n",
              "  <thead>\n",
              "    <tr style=\"text-align: right;\">\n",
              "      <th></th>\n",
              "      <th>id</th>\n",
              "      <th>entity_id</th>\n",
              "      <th>name</th>\n",
              "      <th>permalink</th>\n",
              "      <th>category_code</th>\n",
              "      <th>status</th>\n",
              "      <th>founded_at</th>\n",
              "      <th>description</th>\n",
              "      <th>overview</th>\n",
              "      <th>tag_list</th>\n",
              "      <th>country_code</th>\n",
              "      <th>state_code</th>\n",
              "      <th>city</th>\n",
              "      <th>region</th>\n",
              "      <th>investment_rounds</th>\n",
              "      <th>invested_companies</th>\n",
              "      <th>first_funding_at</th>\n",
              "      <th>last_funding_at</th>\n",
              "      <th>funding_rounds</th>\n",
              "      <th>funding_total_usd</th>\n",
              "      <th>first_milestone_at</th>\n",
              "      <th>last_milestone_at</th>\n",
              "      <th>milestones</th>\n",
              "      <th>relationships</th>\n",
              "      <th>created_by</th>\n",
              "      <th>price_amount</th>\n",
              "      <th>price_currency_code</th>\n",
              "      <th>acquired_at</th>\n",
              "      <th>is_IT/enterprise</th>\n",
              "      <th>is_USA_based</th>\n",
              "      <th>avg_fund_per_round</th>\n",
              "      <th>first_last_funding_diff</th>\n",
              "      <th>first_last_milestone_diff</th>\n",
              "      <th>avg_duration_fund</th>\n",
              "      <th>avg_duration_miletone</th>\n",
              "      <th>non_invested</th>\n",
              "    </tr>\n",
              "  </thead>\n",
              "  <tbody>\n",
              "    <tr>\n",
              "      <th>0</th>\n",
              "      <td>c:1</td>\n",
              "      <td>1</td>\n",
              "      <td>Wetpaint</td>\n",
              "      <td>/company/wetpaint</td>\n",
              "      <td>web</td>\n",
              "      <td>non_acquired</td>\n",
              "      <td>2005-10-17</td>\n",
              "      <td>Technology Platform Company</td>\n",
              "      <td>Wetpaint is a technology platform company that...</td>\n",
              "      <td>wiki, seattle, elowitz, media-industry, media-...</td>\n",
              "      <td>USA</td>\n",
              "      <td>WA</td>\n",
              "      <td>Seattle</td>\n",
              "      <td>Seattle</td>\n",
              "      <td>0</td>\n",
              "      <td>0</td>\n",
              "      <td>2005-10-01</td>\n",
              "      <td>2008-05-19</td>\n",
              "      <td>3</td>\n",
              "      <td>39750000.0</td>\n",
              "      <td>2010-09-05</td>\n",
              "      <td>2013-09-18</td>\n",
              "      <td>5</td>\n",
              "      <td>17</td>\n",
              "      <td>initial-importer</td>\n",
              "      <td>NaN</td>\n",
              "      <td>NaN</td>\n",
              "      <td>NaN</td>\n",
              "      <td>1.0</td>\n",
              "      <td>1.0</td>\n",
              "      <td>13250000</td>\n",
              "      <td>32</td>\n",
              "      <td>36</td>\n",
              "      <td>10.6667</td>\n",
              "      <td>7.2</td>\n",
              "      <td>17</td>\n",
              "    </tr>\n",
              "    <tr>\n",
              "      <th>1</th>\n",
              "      <td>c:1001</td>\n",
              "      <td>1001</td>\n",
              "      <td>FriendFeed</td>\n",
              "      <td>/company/friendfeed</td>\n",
              "      <td>web</td>\n",
              "      <td>acquired</td>\n",
              "      <td>2007-10-01</td>\n",
              "      <td>Social network aggregator</td>\n",
              "      <td>[FriendFeed](http://www.friendfeed.com) aims t...</td>\n",
              "      <td>socialnetwork, newsfeed, socialnetworkaggregator</td>\n",
              "      <td>USA</td>\n",
              "      <td>CA</td>\n",
              "      <td>Mountain View</td>\n",
              "      <td>SF Bay</td>\n",
              "      <td>0</td>\n",
              "      <td>0</td>\n",
              "      <td>2008-02-26</td>\n",
              "      <td>2008-02-26</td>\n",
              "      <td>1</td>\n",
              "      <td>5000000.0</td>\n",
              "      <td>2008-05-01</td>\n",
              "      <td>2012-09-13</td>\n",
              "      <td>3</td>\n",
              "      <td>14</td>\n",
              "      <td>initial-importer</td>\n",
              "      <td>47500000.0</td>\n",
              "      <td>USD</td>\n",
              "      <td>2009-08-10</td>\n",
              "      <td>1.0</td>\n",
              "      <td>1.0</td>\n",
              "      <td>5000000</td>\n",
              "      <td>0</td>\n",
              "      <td>53</td>\n",
              "      <td>0</td>\n",
              "      <td>17.6667</td>\n",
              "      <td>14</td>\n",
              "    </tr>\n",
              "    <tr>\n",
              "      <th>2</th>\n",
              "      <td>c:10014</td>\n",
              "      <td>10014</td>\n",
              "      <td>Mobclix</td>\n",
              "      <td>/company/mobclix</td>\n",
              "      <td>Mobile Apps/services</td>\n",
              "      <td>acquired</td>\n",
              "      <td>2008-03-01</td>\n",
              "      <td>iPhone Ad Exchange Provider</td>\n",
              "      <td>Mobclix (www.mobclix.com) is the industry's la...</td>\n",
              "      <td>techcrunch50, tc50, iphone, analytics, free-de...</td>\n",
              "      <td>USA</td>\n",
              "      <td>CA</td>\n",
              "      <td>Palo Alto</td>\n",
              "      <td>SF Bay</td>\n",
              "      <td>0</td>\n",
              "      <td>0</td>\n",
              "      <td>2008-09-01</td>\n",
              "      <td>2008-09-01</td>\n",
              "      <td>1</td>\n",
              "      <td>0.0</td>\n",
              "      <td>1995-03-01</td>\n",
              "      <td>2012-09-18</td>\n",
              "      <td>4</td>\n",
              "      <td>9</td>\n",
              "      <td>NaN</td>\n",
              "      <td>0.0</td>\n",
              "      <td>USD</td>\n",
              "      <td>2010-09-30</td>\n",
              "      <td>0.0</td>\n",
              "      <td>1.0</td>\n",
              "      <td>0</td>\n",
              "      <td>0</td>\n",
              "      <td>213</td>\n",
              "      <td>0</td>\n",
              "      <td>53.25</td>\n",
              "      <td>9</td>\n",
              "    </tr>\n",
              "    <tr>\n",
              "      <th>3</th>\n",
              "      <td>c:100155</td>\n",
              "      <td>100155</td>\n",
              "      <td>MTPV</td>\n",
              "      <td>/company/mtpv</td>\n",
              "      <td>cleantech</td>\n",
              "      <td>non_acquired</td>\n",
              "      <td>2003-01-01</td>\n",
              "      <td>NaN</td>\n",
              "      <td>MTPV Corporation is a clean energy company foc...</td>\n",
              "      <td>nan</td>\n",
              "      <td>USA</td>\n",
              "      <td>TX</td>\n",
              "      <td>Austin</td>\n",
              "      <td>Austin</td>\n",
              "      <td>0</td>\n",
              "      <td>0</td>\n",
              "      <td>2011-03-08</td>\n",
              "      <td>2012-01-26</td>\n",
              "      <td>3</td>\n",
              "      <td>10125293.0</td>\n",
              "      <td>2010-01-01</td>\n",
              "      <td>2010-01-01</td>\n",
              "      <td>1</td>\n",
              "      <td>6</td>\n",
              "      <td>arun</td>\n",
              "      <td>NaN</td>\n",
              "      <td>NaN</td>\n",
              "      <td>NaN</td>\n",
              "      <td>0.0</td>\n",
              "      <td>1.0</td>\n",
              "      <td>3375097</td>\n",
              "      <td>10</td>\n",
              "      <td>0</td>\n",
              "      <td>3.33333</td>\n",
              "      <td>0</td>\n",
              "      <td>6</td>\n",
              "    </tr>\n",
              "    <tr>\n",
              "      <th>4</th>\n",
              "      <td>c:10018</td>\n",
              "      <td>10018</td>\n",
              "      <td>Demandbase</td>\n",
              "      <td>/company/demandbase</td>\n",
              "      <td>analytics</td>\n",
              "      <td>non_acquired</td>\n",
              "      <td>2006-01-01</td>\n",
              "      <td>NaN</td>\n",
              "      <td>Demandbase is the first targeting and personal...</td>\n",
              "      <td>nan</td>\n",
              "      <td>USA</td>\n",
              "      <td>CA</td>\n",
              "      <td>San Francisco</td>\n",
              "      <td>SF Bay</td>\n",
              "      <td>0</td>\n",
              "      <td>0</td>\n",
              "      <td>2008-08-25</td>\n",
              "      <td>2013-03-28</td>\n",
              "      <td>3</td>\n",
              "      <td>33000000.0</td>\n",
              "      <td>2010-05-18</td>\n",
              "      <td>2013-03-01</td>\n",
              "      <td>3</td>\n",
              "      <td>19</td>\n",
              "      <td>jason</td>\n",
              "      <td>NaN</td>\n",
              "      <td>NaN</td>\n",
              "      <td>NaN</td>\n",
              "      <td>0.0</td>\n",
              "      <td>1.0</td>\n",
              "      <td>11000000</td>\n",
              "      <td>55</td>\n",
              "      <td>33</td>\n",
              "      <td>18.3333</td>\n",
              "      <td>11</td>\n",
              "      <td>19</td>\n",
              "    </tr>\n",
              "  </tbody>\n",
              "</table>\n",
              "</div>"
            ],
            "text/plain": [
              "         id  entity_id  ... avg_duration_miletone non_invested\n",
              "0       c:1          1  ...                   7.2           17\n",
              "1    c:1001       1001  ...               17.6667           14\n",
              "2   c:10014      10014  ...                 53.25            9\n",
              "3  c:100155     100155  ...                     0            6\n",
              "4   c:10018      10018  ...                    11           19\n",
              "\n",
              "[5 rows x 36 columns]"
            ]
          },
          "metadata": {
            "tags": []
          },
          "execution_count": 325
        }
      ]
    },
    {
      "cell_type": "code",
      "metadata": {
        "id": "XePfaiisSd9c",
        "colab_type": "code",
        "colab": {
          "base_uri": "https://localhost:8080/",
          "height": 85
        },
        "outputId": "c4501840-ee0c-49c6-fbdc-bd945ee3ab70"
      },
      "source": [
        "data['founded_at'] = data['founded_at'].astype(str)\n",
        "data['acquired_at']=data['acquired_at'].astype(str)\n",
        "data['first_stripped'] = data['founded_at'].str.split('-')\n",
        "data['last_stripped'] = data['acquired_at'].str.split('-')\n",
        "from datetime import date\n",
        "data['lifespan']=\"\"\n",
        "for i in range(0,len(data)):\n",
        "  if((data['first_stripped'][i][0]!='nan') and (data['last_stripped'][i][0]!='nan')):\n",
        "    D1=data['first_stripped'][i][2]\n",
        "    M1=data['first_stripped'][i][1]\n",
        "    Y1=data['first_stripped'][i][0]\n",
        "    D2=data['last_stripped'][i][2]\n",
        "    M2=data['last_stripped'][i][1]\n",
        "    Y2=data['last_stripped'][i][0]\n",
        "    \n",
        "      \n",
        "    d0 = date(int(Y1), int(M1), int(D1))\n",
        "    d1 = date(int(Y2), int(M2), int(D2))\n",
        "    delta=d1-d0\n",
        "    data['lifespan'][i]=int(delta.days/360)\n",
        "data=data.drop(['first_stripped'],axis=1)\n",
        "data=data.drop(['last_stripped'],axis=1)"
      ],
      "execution_count": null,
      "outputs": [
        {
          "output_type": "stream",
          "text": [
            "/usr/local/lib/python3.6/dist-packages/ipykernel_launcher.py:20: SettingWithCopyWarning: \n",
            "A value is trying to be set on a copy of a slice from a DataFrame\n",
            "\n",
            "See the caveats in the documentation: https://pandas.pydata.org/pandas-docs/stable/user_guide/indexing.html#returning-a-view-versus-a-copy\n"
          ],
          "name": "stderr"
        }
      ]
    },
    {
      "cell_type": "code",
      "metadata": {
        "id": "8g5I8CVXmxJt",
        "colab_type": "code",
        "colab": {}
      },
      "source": [
        "acq_data0=data[data['status']=='acquired']\n",
        "acq_data9=acq_data0[acq_data0['acquired_at']!='nan']\n",
        "acq_data9=acq_data9[acq_data9['founded_at']!='nan']\n",
        "acq_data9['lifespan']=acq_data9['lifespan'].astype(int)"
      ],
      "execution_count": null,
      "outputs": []
    },
    {
      "cell_type": "code",
      "metadata": {
        "id": "_wiK8vGRe2qf",
        "colab_type": "code",
        "colab": {
          "base_uri": "https://localhost:8080/",
          "height": 525
        },
        "outputId": "445e81d7-4ab4-43d2-90a6-8e511a309b00"
      },
      "source": [
        "sp=acq_data9.groupby(['category_code']).mean()\n",
        "sp['category']=list(acq_data9.groupby(['category_code']).mean().index)\n",
        "sp=sp[['category','lifespan']]\n",
        "sp=sp.sort_values(by=['lifespan'],ascending=False)\n",
        "sns.catplot(x='lifespan',y='category',kind='bar',palette='Set1',ci=None,data=sp,height=7,aspect=1.5);\n",
        "#plt.xticks(rotation=90)\n",
        "plt.xlabel('Years');\n",
        "plt.title('Average lifespan of a company');"
      ],
      "execution_count": null,
      "outputs": [
        {
          "output_type": "display_data",
          "data": {
            "image/png": "[encoded data removed]",
            "text/plain": [
              "<Figure size 756x504 with 1 Axes>"
            ]
          },
          "metadata": {
            "tags": [],
            "needs_background": "light"
          }
        }
      ]
    },
    {
      "cell_type": "code",
      "metadata": {
        "id": "363EFYr98CzM",
        "colab_type": "code",
        "colab": {}
      },
      "source": [
        "data=data.drop(['description','overview','state_code','city','created_by'],axis=1)"
      ],
      "execution_count": null,
      "outputs": []
    },
    {
      "cell_type": "code",
      "metadata": {
        "id": "Nn74RG4i_5A1",
        "colab_type": "code",
        "colab": {}
      },
      "source": [
        "data['funding_total($M)']=data['funding_total_usd']/1000000"
      ],
      "execution_count": null,
      "outputs": []
    },
    {
      "cell_type": "code",
      "metadata": {
        "id": "m6w3tPM4lz2s",
        "colab_type": "code",
        "colab": {
          "base_uri": "https://localhost:8080/",
          "height": 453
        },
        "outputId": "d77b2e93-ac59-43a9-da0d-6ada1de4118f"
      },
      "source": [
        "sec=data.groupby(['category_code']).mean()\n",
        "sec['category_code']=list(data.groupby(['category_code']).mean().index)\n",
        "sec=sec.sort_values(by=['funding_total($M)'],ascending=False)\n",
        "sns.catplot(x='funding_total($M)',y='category_code',kind='bar',palette='magma',ci=None,data=sec,height=6,aspect=2);\n",
        "plt.xlabel('funding($M)');\n",
        "plt.title('Mean funding amount for different categories');"
      ],
      "execution_count": null,
      "outputs": [
        {
          "output_type": "display_data",
          "data": {
            "image/png": "[encoded data removed]",
            "text/plain": [
              "<Figure size 864x432 with 1 Axes>"
            ]
          },
          "metadata": {
            "tags": [],
            "needs_background": "light"
          }
        }
      ]
    },
    {
      "cell_type": "code",
      "metadata": {
        "id": "gE2wyqGg99d_",
        "colab_type": "code",
        "colab": {}
      },
      "source": [
        "data_se=data[(data['country_code']=='IDN') |(data['country_code']=='VNM') |(data['country_code']=='THA') |(data['country_code']=='MYS') |(data['country_code']=='SGP') |(data['country_code']=='PHL') |(data['country_code']=='LAO') |(data['country_code']=='MMR') ]"
      ],
      "execution_count": null,
      "outputs": []
    },
    {
      "cell_type": "code",
      "metadata": {
        "id": "YO-DuWPyC2yz",
        "colab_type": "code",
        "colab": {
          "base_uri": "https://localhost:8080/",
          "height": 453
        },
        "outputId": "61463046-797e-4334-e844-ce44d89d7ad9"
      },
      "source": [
        "sec=data_se.groupby(['category_code']).mean()\n",
        "sec['category_code']=list(data_se.groupby(['category_code']).mean().index)\n",
        "sec=sec.sort_values(by=['funding_total($M)'],ascending=False)\n",
        "sns.catplot(x='funding_total($M)',y='category_code',kind='bar',palette='magma',ci=None,data=sec,height=6,aspect=2);\n",
        "plt.xlabel('funding($M)');\n",
        "plt.title('Mean funding amount for different categories for south east asian companies ');"
      ],
      "execution_count": null,
      "outputs": [
        {
          "output_type": "display_data",
          "data": {
            "image/png": "[encoded data removed]",
            "text/plain": [
              "<Figure size 864x432 with 1 Axes>"
            ]
          },
          "metadata": {
            "tags": [],
            "needs_background": "light"
          }
        }
      ]
    },
    {
      "cell_type": "code",
      "metadata": {
        "id": "CnBUU2fNIi71",
        "colab_type": "code",
        "colab": {
          "base_uri": "https://localhost:8080/",
          "height": 293
        },
        "outputId": "a470cd1d-2274-4141-8c6f-1a7bb0bdabc1"
      },
      "source": [
        "data['first_fundingyear']=data['first_funding_at'].str.split('-').map(lambda x:x[0])\n",
        "sns.catplot(x='first_fundingyear',kind='count',data=data,height=4,aspect=3)\n",
        "plt.xlabel('Year')\n",
        "plt.ylabel('No. of fundings(first round)')\n",
        "plt.show();\n"
      ],
      "execution_count": null,
      "outputs": [
        {
          "output_type": "display_data",
          "data": {
            "image/png": "[encoded data removed]",
            "text/plain": [
              "<Figure size 864x288 with 1 Axes>"
            ]
          },
          "metadata": {
            "tags": [],
            "needs_background": "light"
          }
        }
      ]
    },
    {
      "cell_type": "code",
      "metadata": {
        "id": "LtMljmRnKV4H",
        "colab_type": "code",
        "colab": {
          "base_uri": "https://localhost:8080/",
          "height": 293
        },
        "outputId": "a163d491-36cc-4a9a-848e-867ecd298973"
      },
      "source": [
        "data['last_fundingyear']=data['last_funding_at'].str.split('-').map(lambda x:x[0])\n",
        "sns.catplot(x='last_fundingyear',kind='count',data=data,height=4,aspect=3)\n",
        "plt.xlabel('Year')\n",
        "plt.ylabel('No. of fundings(last round)')\n",
        "plt.show();\n"
      ],
      "execution_count": null,
      "outputs": [
        {
          "output_type": "display_data",
          "data": {
            "image/png": "[encoded data removed]",
            "text/plain": [
              "<Figure size 864x288 with 1 Axes>"
            ]
          },
          "metadata": {
            "tags": [],
            "needs_background": "light"
          }
        }
      ]
    },
    {
      "cell_type": "code",
      "metadata": {
        "id": "7w92ofjnx30R",
        "colab_type": "code",
        "colab": {
          "base_uri": "https://localhost:8080/",
          "height": 437
        },
        "outputId": "49988ef0-5b06-4e49-d67c-ceab41805e2e"
      },
      "source": [
        "sec=data.groupby(['category_code']).median()\n",
        "sec['category_code']=list(data.groupby(['category_code']).median().index)\n",
        "sec=sec.sort_values(by=['funding_rounds'],ascending=False)\n",
        "sns.catplot(x='funding_rounds',y='category_code',kind='bar',ci=None,palette='PuRd',data=sec,height=6,aspect=1.5);\n",
        "plt.xlabel('median_funding_rounds');\n",
        "#plt.title('Median funding rounds for different categories for companies across globe');"
      ],
      "execution_count": null,
      "outputs": [
        {
          "output_type": "display_data",
          "data": {
            "image/png": "[encoded data removed]",
            "text/plain": [
              "<Figure size 648x432 with 1 Axes>"
            ]
          },
          "metadata": {
            "tags": [],
            "needs_background": "light"
          }
        }
      ]
    },
    {
      "cell_type": "code",
      "metadata": {
        "id": "4XFvnwDP0o6P",
        "colab_type": "code",
        "colab": {
          "base_uri": "https://localhost:8080/",
          "height": 365
        },
        "outputId": "8ced011f-138a-48a7-f363-5361e216e3f5"
      },
      "source": [
        "sec=data_se.groupby(['category_code']).median()\n",
        "sec['category_code']=list(data_se.groupby(['category_code']).median().index)\n",
        "sec=sec.sort_values(by=['funding_rounds'],ascending=False)\n",
        "sns.catplot(x='funding_rounds',y='category_code',kind='bar',ci=None,palette='PuRd',data=sec,height=5,aspect=2);\n",
        "plt.xlabel('median_funding_rounds');\n",
        "#plt.title('Median funding rounds for different categories for south eastern companies');"
      ],
      "execution_count": null,
      "outputs": [
        {
          "output_type": "display_data",
          "data": {
            "image/png": "[encoded data removed]",
            "text/plain": [
              "<Figure size 720x360 with 1 Axes>"
            ]
          },
          "metadata": {
            "tags": [],
            "needs_background": "light"
          }
        }
      ]
    },
    {
      "cell_type": "code",
      "metadata": {
        "id": "2JdQF0Dt92zW",
        "colab_type": "code",
        "colab": {
          "base_uri": "https://localhost:8080/",
          "height": 309
        },
        "outputId": "9dce3c61-fa82-48f4-ee36-e21a4d6a47ee"
      },
      "source": [
        "data.head()"
      ],
      "execution_count": null,
      "outputs": [
        {
          "output_type": "execute_result",
          "data": {
            "text/html": [
              "<div>\n",
              "<style scoped>\n",
              "    .dataframe tbody tr th:only-of-type {\n",
              "        vertical-align: middle;\n",
              "    }\n",
              "\n",
              "    .dataframe tbody tr th {\n",
              "        vertical-align: top;\n",
              "    }\n",
              "\n",
              "    .dataframe thead th {\n",
              "        text-align: right;\n",
              "    }\n",
              "</style>\n",
              "<table border=\"1\" class=\"dataframe\">\n",
              "  <thead>\n",
              "    <tr style=\"text-align: right;\">\n",
              "      <th></th>\n",
              "      <th>id</th>\n",
              "      <th>entity_id</th>\n",
              "      <th>name</th>\n",
              "      <th>permalink</th>\n",
              "      <th>category_code</th>\n",
              "      <th>status</th>\n",
              "      <th>founded_at</th>\n",
              "      <th>tag_list</th>\n",
              "      <th>country_code</th>\n",
              "      <th>region</th>\n",
              "      <th>investment_rounds</th>\n",
              "      <th>invested_companies</th>\n",
              "      <th>first_funding_at</th>\n",
              "      <th>last_funding_at</th>\n",
              "      <th>funding_rounds</th>\n",
              "      <th>funding_total_usd</th>\n",
              "      <th>first_milestone_at</th>\n",
              "      <th>last_milestone_at</th>\n",
              "      <th>milestones</th>\n",
              "      <th>relationships</th>\n",
              "      <th>price_amount</th>\n",
              "      <th>price_currency_code</th>\n",
              "      <th>acquired_at</th>\n",
              "      <th>is_IT/enterprise</th>\n",
              "      <th>is_USA_based</th>\n",
              "      <th>avg_fund_per_round</th>\n",
              "      <th>first_last_funding_diff</th>\n",
              "      <th>first_last_milestone_diff</th>\n",
              "      <th>avg_duration_fund</th>\n",
              "      <th>avg_duration_miletone</th>\n",
              "      <th>non_invested</th>\n",
              "      <th>lifespan</th>\n",
              "      <th>funding_total($M)</th>\n",
              "      <th>first_fundingyear</th>\n",
              "      <th>last_fundingyear</th>\n",
              "    </tr>\n",
              "  </thead>\n",
              "  <tbody>\n",
              "    <tr>\n",
              "      <th>0</th>\n",
              "      <td>c:1</td>\n",
              "      <td>1</td>\n",
              "      <td>Wetpaint</td>\n",
              "      <td>/company/wetpaint</td>\n",
              "      <td>web</td>\n",
              "      <td>non_acquired</td>\n",
              "      <td>2005-10-17</td>\n",
              "      <td>wiki, seattle, elowitz, media-industry, media-...</td>\n",
              "      <td>USA</td>\n",
              "      <td>Seattle</td>\n",
              "      <td>0</td>\n",
              "      <td>0</td>\n",
              "      <td>2005-10-01</td>\n",
              "      <td>2008-05-19</td>\n",
              "      <td>3</td>\n",
              "      <td>39750000.0</td>\n",
              "      <td>2010-09-05</td>\n",
              "      <td>2013-09-18</td>\n",
              "      <td>5</td>\n",
              "      <td>17</td>\n",
              "      <td>NaN</td>\n",
              "      <td>NaN</td>\n",
              "      <td>nan</td>\n",
              "      <td>1.0</td>\n",
              "      <td>1.0</td>\n",
              "      <td>13250000</td>\n",
              "      <td>32</td>\n",
              "      <td>36</td>\n",
              "      <td>10.6667</td>\n",
              "      <td>7.2</td>\n",
              "      <td>17</td>\n",
              "      <td></td>\n",
              "      <td>39.750000</td>\n",
              "      <td>2005</td>\n",
              "      <td>2008</td>\n",
              "    </tr>\n",
              "    <tr>\n",
              "      <th>1</th>\n",
              "      <td>c:1001</td>\n",
              "      <td>1001</td>\n",
              "      <td>FriendFeed</td>\n",
              "      <td>/company/friendfeed</td>\n",
              "      <td>web</td>\n",
              "      <td>acquired</td>\n",
              "      <td>2007-10-01</td>\n",
              "      <td>socialnetwork, newsfeed, socialnetworkaggregator</td>\n",
              "      <td>USA</td>\n",
              "      <td>SF Bay</td>\n",
              "      <td>0</td>\n",
              "      <td>0</td>\n",
              "      <td>2008-02-26</td>\n",
              "      <td>2008-02-26</td>\n",
              "      <td>1</td>\n",
              "      <td>5000000.0</td>\n",
              "      <td>2008-05-01</td>\n",
              "      <td>2012-09-13</td>\n",
              "      <td>3</td>\n",
              "      <td>14</td>\n",
              "      <td>47500000.0</td>\n",
              "      <td>USD</td>\n",
              "      <td>2009-08-10</td>\n",
              "      <td>1.0</td>\n",
              "      <td>1.0</td>\n",
              "      <td>5000000</td>\n",
              "      <td>0</td>\n",
              "      <td>53</td>\n",
              "      <td>0</td>\n",
              "      <td>17.6667</td>\n",
              "      <td>14</td>\n",
              "      <td>1</td>\n",
              "      <td>5.000000</td>\n",
              "      <td>2008</td>\n",
              "      <td>2008</td>\n",
              "    </tr>\n",
              "    <tr>\n",
              "      <th>2</th>\n",
              "      <td>c:10014</td>\n",
              "      <td>10014</td>\n",
              "      <td>Mobclix</td>\n",
              "      <td>/company/mobclix</td>\n",
              "      <td>Mobile Apps/services</td>\n",
              "      <td>acquired</td>\n",
              "      <td>2008-03-01</td>\n",
              "      <td>techcrunch50, tc50, iphone, analytics, free-de...</td>\n",
              "      <td>USA</td>\n",
              "      <td>SF Bay</td>\n",
              "      <td>0</td>\n",
              "      <td>0</td>\n",
              "      <td>2008-09-01</td>\n",
              "      <td>2008-09-01</td>\n",
              "      <td>1</td>\n",
              "      <td>0.0</td>\n",
              "      <td>1995-03-01</td>\n",
              "      <td>2012-09-18</td>\n",
              "      <td>4</td>\n",
              "      <td>9</td>\n",
              "      <td>0.0</td>\n",
              "      <td>USD</td>\n",
              "      <td>2010-09-30</td>\n",
              "      <td>0.0</td>\n",
              "      <td>1.0</td>\n",
              "      <td>0</td>\n",
              "      <td>0</td>\n",
              "      <td>213</td>\n",
              "      <td>0</td>\n",
              "      <td>53.25</td>\n",
              "      <td>9</td>\n",
              "      <td>2</td>\n",
              "      <td>0.000000</td>\n",
              "      <td>2008</td>\n",
              "      <td>2008</td>\n",
              "    </tr>\n",
              "    <tr>\n",
              "      <th>3</th>\n",
              "      <td>c:100155</td>\n",
              "      <td>100155</td>\n",
              "      <td>MTPV</td>\n",
              "      <td>/company/mtpv</td>\n",
              "      <td>cleantech</td>\n",
              "      <td>non_acquired</td>\n",
              "      <td>2003-01-01</td>\n",
              "      <td>nan</td>\n",
              "      <td>USA</td>\n",
              "      <td>Austin</td>\n",
              "      <td>0</td>\n",
              "      <td>0</td>\n",
              "      <td>2011-03-08</td>\n",
              "      <td>2012-01-26</td>\n",
              "      <td>3</td>\n",
              "      <td>10125293.0</td>\n",
              "      <td>2010-01-01</td>\n",
              "      <td>2010-01-01</td>\n",
              "      <td>1</td>\n",
              "      <td>6</td>\n",
              "      <td>NaN</td>\n",
              "      <td>NaN</td>\n",
              "      <td>nan</td>\n",
              "      <td>0.0</td>\n",
              "      <td>1.0</td>\n",
              "      <td>3375097</td>\n",
              "      <td>10</td>\n",
              "      <td>0</td>\n",
              "      <td>3.33333</td>\n",
              "      <td>0</td>\n",
              "      <td>6</td>\n",
              "      <td></td>\n",
              "      <td>10.125293</td>\n",
              "      <td>2011</td>\n",
              "      <td>2012</td>\n",
              "    </tr>\n",
              "    <tr>\n",
              "      <th>4</th>\n",
              "      <td>c:10018</td>\n",
              "      <td>10018</td>\n",
              "      <td>Demandbase</td>\n",
              "      <td>/company/demandbase</td>\n",
              "      <td>analytics</td>\n",
              "      <td>non_acquired</td>\n",
              "      <td>2006-01-01</td>\n",
              "      <td>nan</td>\n",
              "      <td>USA</td>\n",
              "      <td>SF Bay</td>\n",
              "      <td>0</td>\n",
              "      <td>0</td>\n",
              "      <td>2008-08-25</td>\n",
              "      <td>2013-03-28</td>\n",
              "      <td>3</td>\n",
              "      <td>33000000.0</td>\n",
              "      <td>2010-05-18</td>\n",
              "      <td>2013-03-01</td>\n",
              "      <td>3</td>\n",
              "      <td>19</td>\n",
              "      <td>NaN</td>\n",
              "      <td>NaN</td>\n",
              "      <td>nan</td>\n",
              "      <td>0.0</td>\n",
              "      <td>1.0</td>\n",
              "      <td>11000000</td>\n",
              "      <td>55</td>\n",
              "      <td>33</td>\n",
              "      <td>18.3333</td>\n",
              "      <td>11</td>\n",
              "      <td>19</td>\n",
              "      <td></td>\n",
              "      <td>33.000000</td>\n",
              "      <td>2008</td>\n",
              "      <td>2013</td>\n",
              "    </tr>\n",
              "  </tbody>\n",
              "</table>\n",
              "</div>"
            ],
            "text/plain": [
              "         id  entity_id  ... first_fundingyear last_fundingyear\n",
              "0       c:1          1  ...              2005             2008\n",
              "1    c:1001       1001  ...              2008             2008\n",
              "2   c:10014      10014  ...              2008             2008\n",
              "3  c:100155     100155  ...              2011             2012\n",
              "4   c:10018      10018  ...              2008             2013\n",
              "\n",
              "[5 rows x 35 columns]"
            ]
          },
          "metadata": {
            "tags": []
          },
          "execution_count": 340
        }
      ]
    }
  ]
}